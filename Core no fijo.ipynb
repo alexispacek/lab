{
 "cells": [
  {
   "cell_type": "code",
   "execution_count": 4,
   "id": "2d629a23",
   "metadata": {},
   "outputs": [],
   "source": [
    "from scipy.optimize import minimize\n",
    "from scipy.optimize import curve_fit\n",
    "import math\n",
    "import numpy as np\n",
    "import matplotlib.pyplot as plt\n",
    "import matplotlib.path as mpltPath\n",
    "import math as math"
   ]
  },
  {
   "cell_type": "code",
   "execution_count": 30,
   "id": "6fa42987",
   "metadata": {},
   "outputs": [],
   "source": [
    "def powerlaw(r, s0, b):  \n",
    "    # r0 no es variable aleatoria\n",
    "    r0 = 300\n",
    "    return s0*(r/r0)**(-b)\n",
    "\n",
    "def baricentro(signal,det_pos):\n",
    "    bari_x = signal[0]*det_pos[0][0]\n",
    "    bari_y = signal[0]*det_pos[0][1]\n",
    "    sum_s = np.sum(signal)\n",
    "    for i in range(1,len(signal)):\n",
    "        bari_x += signal[i]*det_pos[i][0]\n",
    "        bari_y += signal[i]*det_pos[i][1]\n",
    "    return(bari_x/sum_s,bari_y/sum_s)\n",
    "    \n",
    "\n",
    "\n",
    "#estimacion inicial del core es la pos del detector mas cercano.\n",
    "\n",
    "def funcion_costo2(theta,x_pos,y_pos,signal_sim,angle,ysigma):\n",
    "        s0 = theta[0]\n",
    "        b = theta[1]\n",
    "        x_core = theta[2]\n",
    "        y_core = theta[3]\n",
    "        costo = np.zeros_like(s0)\n",
    "        zenith = simZenith(-angle,angle)[0]\n",
    "        azimuth = simZenith(-angle,angle)[1]        \n",
    "        for (dist_x,dist_y,y1,sigma1) in zip(x_pos,y_pos,signal_sim,ysigma):\n",
    "            dist = getDistances(dist_x,dist_y,x_core,y_core,zenith,azimuth)[0]\n",
    "            yfit = powerlaw(dist, s0, b)\n",
    "            residuo = y1 - yfit\n",
    "            z = (residuo / sigma1)**2\n",
    "            costo += z\n",
    "        return costo\n",
    "    \n",
    "costo2 = lambda theta: funcion_costo2(theta,x_det,y_det,y_random,angulo,sigma) \n",
    "\n",
    "def in_hex(poli):\n",
    "    path = mpltPath.Path(poli)\n",
    "    hex = False\n",
    "    random_point = (np.random.uniform(-433,433),np.random.uniform(-375,375))\n",
    "    while hex != True:\n",
    "        if path.contains_points([random_point]) == True:\n",
    "            hex = True\n",
    "        else:\n",
    "            random_point = (np.random.uniform(-433,433),np.random.uniform(-375,375))\n",
    "    return random_point\n",
    "\n",
    "def getDistances(xpositions, ypositions, x0=0, y0=0, zenithRad=0, azimuthRad=0):\n",
    "\n",
    "    dx = xpositions - x0    # detector wrt core positions\n",
    "    dy = ypositions - y0\n",
    "    \n",
    "    groundDistances = np.sqrt(dx*dx+dy*dy)\n",
    "\n",
    "    # Direction cosines in the plane xy\n",
    "    dirx =  math.cos(azimuthRad)\n",
    "    diry =  math.sin(azimuthRad)\n",
    "\n",
    "    axisProjections = math.sin(zenithRad) * (dx*dirx+dy*diry)\n",
    "    \n",
    "    distances = np.sqrt( groundDistances**2 - axisProjections**2 )\n",
    "    \n",
    "    return (distances,axisProjections,groundDistances)\n",
    "\n",
    "def simZenith(zenithMinDeg, zenithMaxDeg) :\n",
    "\n",
    "    zenithMinRad = math.radians(zenithMinDeg)\n",
    "    sin2MinZenith = math.sin(zenithMinRad)**2\n",
    "\n",
    "    zenithMaxRad = math.radians(zenithMaxDeg)\n",
    "    sin2MaxZenith = math.sin(zenithMaxRad)**2\n",
    "\n",
    "    rng = np.random.default_rng()\n",
    "    u = rng.random() \n",
    "    \n",
    "    sin2Zenith = sin2MinZenith + u * (sin2MaxZenith-sin2MinZenith)\n",
    "    sinZenith = math.sqrt(sin2Zenith) \n",
    "\n",
    "    zenith = math.asin(sinZenith)\n",
    "    azimut = np.random.uniform(0,2*np.pi)\n",
    "    \n",
    "    return (zenith,azimut)\n",
    "\n",
    "poligono = [[-216.5,-375],[216.5,-375],[433,0],[216.5,375],[-216.5,375],[-433,0]]\n",
    "detectores_pos = [[-216.5,-375],[216.5,-375],[433,0],[216.5,375],[-216.5,375],[-433,0],[0,0]]\n",
    "rectangulo = [[-433,-375],[433,-433],[433,375],[-433,375]]\n",
    "pointsx,pointsy = [-216.5,216.5,433,216.5,-216.5,-433.5,0] , [-375,-375,0,375,375,0,0]\n",
    "random_point = in_hex(poligono)\n",
    "centro = (0,0)\n",
    "x_det = np.zeros(len(detectores_pos))\n",
    "y_det = np.zeros(len(detectores_pos))\n",
    "for i in range(len(detectores_pos)):\n",
    "    x_det[i] = detectores_pos[i][0]\n",
    "    y_det[i] = detectores_pos[i][1]"
   ]
  },
  {
   "cell_type": "code",
   "execution_count": 48,
   "id": "e7c41e8c",
   "metadata": {},
   "outputs": [],
   "source": [
    "#Defino parametros de LDF \n",
    "r0 = 300 #metros \n",
    "s0 = 35 #VEM\n",
    "angulo = 40\n",
    "b = 2.1    \n",
    "#Genero el punto random\n",
    "random_point = in_hex(poligono)\n",
    "#calculo las distancias entre el evento y los 7 detectores.\n",
    "distancias = getDistances(np.asarray(pointsx),np.asarray(pointsy),random_point[0],random_point[1],simZenith(-angulo,angulo)[0],simZenith(-angulo,angulo)[1])\n",
    "r = np.asarray(distancias[0])\n",
    "\n",
    "signal = powerlaw(r,s0,b)\n",
    "sigma_signal = np.sqrt(signal)\n",
    "#cortar detectores con señal menores a dos \n",
    "#Hago el ajuste y defino la semilla inicial\n",
    "y_random = np.random.normal(signal,sigma_signal,size = len(signal)) #signal\n",
    "y_random = y_random[y_random > 2]\n",
    "sigma = np.sqrt(y_random)\n",
    "\n",
    "\n",
    "core_est_x = baricentro(y_random,detectores_pos)[0] \n",
    "core_est_y = baricentro(y_random,detectores_pos)[1] \n"
   ]
  },
  {
   "cell_type": "code",
   "execution_count": 60,
   "id": "bed9aff3",
   "metadata": {},
   "outputs": [
    {
     "name": "stdout",
     "output_type": "stream",
     "text": [
      "Minimize results\n",
      "Parametros ajustados:  [  30.00001665    1.00001418  176.70398056 -168.08607329]\n",
      "Errores de los parámetros [2.97870301 1.96738214 1.47244003 0.15281589]\n",
      "[[ 8.87267165  5.5087378  -4.32505699 -0.42295578]\n",
      " [ 5.5087378   3.87059249 -2.52116999 -0.30050744]\n",
      " [-4.32505699 -2.52116999  2.16807964  0.19236089]\n",
      " [-0.42295578 -0.30050744  0.19236089  0.0233527 ]]\n"
     ]
    },
    {
     "name": "stderr",
     "output_type": "stream",
     "text": [
      "/Users/gunitettamanti/opt/anaconda3/lib/python3.8/site-packages/scipy/optimize/optimize.py:1058: RuntimeWarning: divide by zero encountered in double_scalars\n",
      "  rhok = 1.0 / (numpy.dot(yk, sk))\n"
     ]
    }
   ],
   "source": [
    "res = minimize(costo2, x0=(30,1,core_est_x,core_est_y))\n",
    "print('Minimize results')\n",
    "print(\"Parametros ajustados: \", res.x)\n",
    "cova = 2*res.hess_inv\n",
    "par_error = np.sqrt(np.diagonal(cova))\n",
    "print(\"Errores de los parámetros\", par_error)\n",
    "print(cova)"
   ]
  },
  {
   "cell_type": "code",
   "execution_count": 61,
   "id": "83fda90f",
   "metadata": {},
   "outputs": [
    {
     "data": {
      "text/plain": [
       "(194.37733628308342, -176.73703036075568)"
      ]
     },
     "execution_count": 61,
     "metadata": {},
     "output_type": "execute_result"
    }
   ],
   "source": [
    "random_point"
   ]
  }
 ],
 "metadata": {
  "kernelspec": {
   "display_name": "Python 3",
   "language": "python",
   "name": "python3"
  },
  "language_info": {
   "codemirror_mode": {
    "name": "ipython",
    "version": 3
   },
   "file_extension": ".py",
   "mimetype": "text/x-python",
   "name": "python",
   "nbconvert_exporter": "python",
   "pygments_lexer": "ipython3",
   "version": "3.8.8"
  }
 },
 "nbformat": 4,
 "nbformat_minor": 5
}
