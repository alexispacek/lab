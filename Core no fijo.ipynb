{
 "cells": [
  {
   "cell_type": "code",
   "execution_count": 1,
   "id": "2d629a23",
   "metadata": {},
   "outputs": [],
   "source": [
    "from scipy.optimize import minimize\n",
    "from scipy.optimize import curve_fit\n",
    "import math\n",
    "import numpy as np\n",
    "import matplotlib.pyplot as plt\n",
    "import matplotlib.path as mpltPath\n",
    "import math as math"
   ]
  },
  {
   "cell_type": "code",
   "execution_count": 93,
   "id": "6fa42987",
   "metadata": {},
   "outputs": [],
   "source": [
    "def powerlaw(r, s0, b):  \n",
    "    # r0 no es variable aleatoria\n",
    "    r0 = 300\n",
    "    return s0*(r/r0)**(-b)\n",
    "\n",
    "def baricentro(signal,det_pos):\n",
    "    bari_x = signal[0]*det_pos[0][0]\n",
    "    bari_y = signal[0]*det_pos[0][1]\n",
    "    sum_s = np.sum(signal)\n",
    "    for i in range(1,len(signal)):\n",
    "        bari_x += signal[i]*det_pos[i][0]\n",
    "        bari_y += signal[i]*det_pos[i][1]\n",
    "    return(bari_x/sum_s,bari_y/sum_s)\n",
    "    \n",
    "\n",
    "\n",
    "#estimacion inicial del core es el baricentro\n",
    "\n",
    "def funcion_costo2(theta,x_pos,y_pos,signal_sim,zenith,azimuth,ysigma):\n",
    "\n",
    "        s0 = theta[0]\n",
    "        b = theta[1]\n",
    "        x_core = theta[2]\n",
    "        y_core = theta[3]\n",
    "        \n",
    "        costo = np.zeros_like(s0)\n",
    "\n",
    "        for (dist_x,dist_y,y1,sigma1) in zip(x_pos,y_pos,signal_sim,ysigma):\n",
    "            dist = getDistances(dist_x,dist_y,x_core,y_core,zenith,azimuth)[0]\n",
    "            yfit = powerlaw(dist, s0, b)\n",
    "            residuo = y1 - yfit\n",
    "            z = (residuo / sigma1)**2\n",
    "            costo += z\n",
    "\n",
    "        return costo\n",
    "    \n",
    "costo2 = lambda theta: funcion_costo2(theta,x_det,y_det,y_random,zenith,azimuth,sigma) \n",
    "\n",
    "def in_hex(poli):\n",
    "    path = mpltPath.Path(poli)\n",
    "    hex = False\n",
    "    random_point = (np.random.uniform(-433,433),np.random.uniform(-375,375))\n",
    "    while hex != True:\n",
    "        if path.contains_points([random_point]) == True:\n",
    "            hex = True\n",
    "        else:\n",
    "            random_point = (np.random.uniform(-433,433),np.random.uniform(-375,375))\n",
    "    return random_point\n",
    "\n",
    "def getDistances(xpositions, ypositions, x0=0, y0=0, zenithRad=0, azimuthRad=0):\n",
    "\n",
    "    dx = xpositions - x0    # detector wrt core positions\n",
    "    dy = ypositions - y0\n",
    "    \n",
    "    groundDistances = np.sqrt(dx*dx+dy*dy)\n",
    "\n",
    "    # Direction cosines in the plane xy\n",
    "    dirx =  math.cos(azimuthRad)\n",
    "    diry =  math.sin(azimuthRad)\n",
    "\n",
    "    axisProjections = math.sin(zenithRad) * (dx*dirx+dy*diry)\n",
    "    \n",
    "    distances = np.sqrt( groundDistances**2 - axisProjections**2 )\n",
    "    \n",
    "    return (distances,axisProjections,groundDistances)\n",
    "\n",
    "def simZenith(zenithMinDeg, zenithMaxDeg) :\n",
    "\n",
    "    zenithMinRad = math.radians(zenithMinDeg)\n",
    "    sin2MinZenith = math.sin(zenithMinRad)**2\n",
    "\n",
    "    zenithMaxRad = math.radians(zenithMaxDeg)\n",
    "    sin2MaxZenith = math.sin(zenithMaxRad)**2\n",
    "\n",
    "    rng = np.random.default_rng()\n",
    "    u = rng.random() \n",
    "    \n",
    "    sin2Zenith = sin2MinZenith + u * (sin2MaxZenith-sin2MinZenith)\n",
    "    sinZenith = math.sqrt(sin2Zenith) \n",
    "\n",
    "    zenith = math.asin(sinZenith)\n",
    "    azimut = np.random.uniform(0,2*np.pi)\n",
    "    \n",
    "    return (zenith,azimut)\n",
    "\n",
    "poligono = [[-216.5,-375],[216.5,-375],[433,0],[216.5,375],[-216.5,375],[-433,0]]\n",
    "detectores_pos = [[-216.5,-375],[216.5,-375],[433,0],[216.5,375],[-216.5,375],[-433,0],[0,0]]\n",
    "rectangulo = [[-433,-375],[433,-433],[433,375],[-433,375]]\n",
    "pointsx,pointsy = [-216.5,216.5,433,216.5,-216.5,-433.5,0] , [-375,-375,0,375,375,0,0]\n",
    "random_point = in_hex(poligono)\n",
    "centro = (0,0)\n",
    "x_det = np.zeros(len(detectores_pos))\n",
    "y_det = np.zeros(len(detectores_pos))\n",
    "for i in range(len(detectores_pos)):\n",
    "    x_det[i] = detectores_pos[i][0]\n",
    "    y_det[i] = detectores_pos[i][1]"
   ]
  },
  {
   "cell_type": "code",
   "execution_count": 102,
   "id": "e7c41e8c",
   "metadata": {},
   "outputs": [],
   "source": [
    "#Defino parametros de LDF \n",
    "r0 = 300 #metros \n",
    "s0 = 35 #VEM\n",
    "angulo = 20\n",
    "zenith = simZenith(-angulo,angulo)[0]\n",
    "azimuth = simZenith(-angulo,angulo)[1]\n",
    "b = 2.1    \n",
    "\n",
    "#Genero el punto random\n",
    "random_point = in_hex(poligono)\n",
    "\n",
    "#calculo las distancias entre el evento y los 7 detectores.\n",
    "distancias = getDistances(np.asarray(pointsx),np.asarray(pointsy),random_point[0],random_point[1],simZenith(-angulo,angulo)[0],simZenith(-angulo,angulo)[1])\n",
    "r = np.asarray(distancias[0])\n",
    "\n",
    "signal = powerlaw(r,s0,b)\n",
    "sigma_signal = np.sqrt(signal)\n",
    "\n",
    "#Hago el ajuste y defino la semilla inicial\n",
    "y_random = np.random.normal(signal,sigma_signal,size = len(signal)) #signal\n",
    "y_random = y_random[y_random > 2]\n",
    "sigma = np.sqrt(y_random)\n",
    "\n",
    "core_est_x = baricentro(y_random,detectores_pos)[0] \n",
    "core_est_y = baricentro(y_random,detectores_pos)[1] "
   ]
  },
  {
   "cell_type": "code",
   "execution_count": 103,
   "id": "bed9aff3",
   "metadata": {},
   "outputs": [
    {
     "name": "stdout",
     "output_type": "stream",
     "text": [
      "Minimize results\n",
      "Parametros ajustados:  [  28.74938678    1.39583382 -177.38338717 -330.0434171 ]\n",
      "Errores de los parámetros [ 7.85326854  0.88257812  0.24190009 92.7711594 ]\n",
      "[[ 6.16738267e+01  6.50348367e+00 -1.62290133e+00  6.95801559e+02]\n",
      " [ 6.50348367e+00  7.78944143e-01 -1.94406444e-01  8.17061764e+01]\n",
      " [-1.62290133e+00 -1.94406444e-01  5.85156517e-02 -2.03991684e+01]\n",
      " [ 6.95801559e+02  8.17061764e+01 -2.03991684e+01  8.60648802e+03]]\n"
     ]
    }
   ],
   "source": [
    "res = minimize(costo2, x0=(30,1,core_est_x,core_est_y),tol=1e-10)\n",
    "print('Minimize results')\n",
    "print(\"Parametros ajustados: \", res.x)\n",
    "cova = 2*res.hess_inv\n",
    "par_error = np.sqrt(np.diagonal(cova))\n",
    "print(\"Errores de los parámetros\", par_error)\n",
    "print(cova)"
   ]
  },
  {
   "cell_type": "code",
   "execution_count": 104,
   "id": "83fda90f",
   "metadata": {},
   "outputs": [
    {
     "data": {
      "text/plain": [
       "(-159.19153189051514, -269.7850213794043)"
      ]
     },
     "execution_count": 104,
     "metadata": {},
     "output_type": "execute_result"
    }
   ],
   "source": [
    "random_point"
   ]
  },
  {
   "cell_type": "code",
   "execution_count": 85,
   "id": "fe0dc023",
   "metadata": {},
   "outputs": [
    {
     "data": {
      "text/plain": [
       "array(0)"
      ]
     },
     "execution_count": 85,
     "metadata": {},
     "output_type": "execute_result"
    }
   ],
   "source": [
    "np.zeros_like(1)"
   ]
  }
 ],
 "metadata": {
  "kernelspec": {
   "display_name": "Python 3",
   "language": "python",
   "name": "python3"
  },
  "language_info": {
   "codemirror_mode": {
    "name": "ipython",
    "version": 3
   },
   "file_extension": ".py",
   "mimetype": "text/x-python",
   "name": "python",
   "nbconvert_exporter": "python",
   "pygments_lexer": "ipython3",
   "version": "3.8.8"
  }
 },
 "nbformat": 4,
 "nbformat_minor": 5
}
