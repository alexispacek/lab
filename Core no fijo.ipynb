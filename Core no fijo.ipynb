{
 "cells": [
  {
   "cell_type": "code",
   "execution_count": 2,
   "id": "2d629a23",
   "metadata": {},
   "outputs": [],
   "source": [
    "from scipy.optimize import minimize\n",
    "from scipy.optimize import curve_fit\n",
    "import math\n",
    "import numpy as np\n",
    "import matplotlib.pyplot as plt\n",
    "import matplotlib.path as mpltPath\n",
    "import math as math\n",
    "from scipy.stats import chisquare"
   ]
  },
  {
   "cell_type": "code",
   "execution_count": 6,
   "id": "6fa42987",
   "metadata": {},
   "outputs": [],
   "source": [
    "def powerlaw(r, s0, b):  \n",
    "    # r0 no es variable aleatoria\n",
    "    r0 = 300\n",
    "    return s0*(r0/r)**(b)\n",
    "\n",
    "def baricentro(signal,det_pos,umbral):\n",
    "    sum_s = 0\n",
    "    bari_x = 0\n",
    "    bari_y = 0\n",
    "    for i in range(len(signal)):\n",
    "        if signal[i] > umbral:\n",
    "            bari_x += signal[i]*det_pos[i][0]\n",
    "            bari_y += signal[i]*det_pos[i][1]\n",
    "            sum_s  += signal[i]            \n",
    "    return(bari_x/sum_s,bari_y/sum_s)\n",
    "    \n",
    "\n",
    "#estimacion inicial del core es el baricentro\n",
    "\n",
    "def funcion_costo2(theta,x_pos,y_pos,signal_sim,zenith,azimuth,ysigma):\n",
    "\n",
    "        s0 = theta[0]\n",
    "        b = theta[1]\n",
    "        x_core = theta[2]\n",
    "        y_core = theta[3]\n",
    "        \n",
    "        costo = np.zeros_like(s0)\n",
    "\n",
    "        for (dist_x,dist_y,y1,sigma1) in zip(x_pos,y_pos,signal_sim,ysigma):\n",
    "            \n",
    "            dist = getDistances(dist_x,dist_y,x_core,y_core,zenith,azimuth)[0]\n",
    "            yfit = powerlaw(dist, s0, b)\n",
    "            residuo = y1 - yfit\n",
    "            z = (residuo / sigma1)\n",
    "            costo += z*z\n",
    "\n",
    "        return costo\n",
    "    \n",
    "costo2 = lambda theta: funcion_costo2(theta,x_det,y_det,y_random1,zenith,azimuth,sigma) \n",
    "\n",
    "def in_hex(poli):\n",
    "    path = mpltPath.Path(poli)\n",
    "    hex = False\n",
    "    random_point = (np.random.uniform(-433,433),np.random.uniform(-375,375))\n",
    "    while hex != True:\n",
    "        if path.contains_points([random_point]) == True:\n",
    "            hex = True\n",
    "        else:\n",
    "            random_point = (np.random.uniform(-433,433),np.random.uniform(-375,375))\n",
    "    return random_point\n",
    "\n",
    "def getDistances(xpositions, ypositions, x0=0, y0=0, zenithRad=0, azimuthRad=0):\n",
    "\n",
    "    dx = xpositions - x0    # detector wrt core positions\n",
    "    dy = ypositions - y0\n",
    "    \n",
    "    groundDistances = np.sqrt(dx*dx+dy*dy)\n",
    "\n",
    "    # Direction cosines in the plane xy\n",
    "    dirx =  math.cos(azimuthRad)\n",
    "    diry =  math.sin(azimuthRad)\n",
    "\n",
    "    axisProjections = math.sin(zenithRad) * (dx*dirx+dy*diry)\n",
    "    \n",
    "    distances = np.sqrt( groundDistances**2 - axisProjections**2 )\n",
    "    \n",
    "    return (distances,axisProjections,groundDistances)\n",
    "\n",
    "def simZenith(zenithMinDeg, zenithMaxDeg) :\n",
    "\n",
    "    zenithMinRad = math.radians(zenithMinDeg)\n",
    "    sin2MinZenith = math.sin(zenithMinRad)**2\n",
    "\n",
    "    zenithMaxRad = math.radians(zenithMaxDeg)\n",
    "    sin2MaxZenith = math.sin(zenithMaxRad)**2\n",
    "\n",
    "    rng = np.random.default_rng()\n",
    "    u = rng.random() \n",
    "    \n",
    "    sin2Zenith = sin2MinZenith + u * (sin2MaxZenith-sin2MinZenith)\n",
    "    sinZenith = math.sqrt(sin2Zenith) \n",
    "\n",
    "    zenith = math.asin(sinZenith)\n",
    "    azimut = np.random.uniform(0,2*np.pi)\n",
    "    \n",
    "    return (zenith,azimut)\n",
    "\n",
    "poligono = [[-216.5,-375],[216.5,-375],[433,0],[216.5,375],[-216.5,375],[-433,0]]\n",
    "detectores_pos = [[-216.5,-375],[216.5,-375],[433,0],[216.5,375],[-216.5,375],[-433,0],[0,0]]\n",
    "rectangulo = [[-433,-375],[433,-433],[433,375],[-433,375]]\n",
    "pointsx,pointsy = [-216.5,216.5,433,216.5,-216.5,-433.5,0] , [-375,-375,0,375,375,0,0]\n",
    "centro = (0,0)\n",
    "x_det = np.zeros(len(detectores_pos))\n",
    "y_det = np.zeros(len(detectores_pos))\n",
    "for i in range(len(detectores_pos)):\n",
    "    x_det[i] = detectores_pos[i][0]\n",
    "    y_det[i] = detectores_pos[i][1]"
   ]
  },
  {
   "cell_type": "code",
   "execution_count": 4,
   "id": "e7c41e8c",
   "metadata": {},
   "outputs": [
    {
     "ename": "TypeError",
     "evalue": "baricentro() missing 1 required positional argument: 'umbral'",
     "output_type": "error",
     "traceback": [
      "\u001b[0;31m---------------------------------------------------------------------------\u001b[0m",
      "\u001b[0;31mTypeError\u001b[0m                                 Traceback (most recent call last)",
      "\u001b[0;32m<ipython-input-4-ba840efe7491>\u001b[0m in \u001b[0;36m<module>\u001b[0;34m\u001b[0m\n\u001b[1;32m     22\u001b[0m \u001b[0msigma\u001b[0m \u001b[0;34m=\u001b[0m \u001b[0mnp\u001b[0m\u001b[0;34m.\u001b[0m\u001b[0msqrt\u001b[0m\u001b[0;34m(\u001b[0m\u001b[0my_random\u001b[0m\u001b[0;34m)\u001b[0m\u001b[0;34m\u001b[0m\u001b[0;34m\u001b[0m\u001b[0m\n\u001b[1;32m     23\u001b[0m \u001b[0;34m\u001b[0m\u001b[0m\n\u001b[0;32m---> 24\u001b[0;31m \u001b[0mcore_est_x\u001b[0m \u001b[0;34m=\u001b[0m \u001b[0mbaricentro\u001b[0m\u001b[0;34m(\u001b[0m\u001b[0my_random\u001b[0m\u001b[0;34m,\u001b[0m\u001b[0mdetectores_pos\u001b[0m\u001b[0;34m)\u001b[0m\u001b[0;34m[\u001b[0m\u001b[0;36m0\u001b[0m\u001b[0;34m]\u001b[0m\u001b[0;34m\u001b[0m\u001b[0;34m\u001b[0m\u001b[0m\n\u001b[0m\u001b[1;32m     25\u001b[0m \u001b[0mcore_est_y\u001b[0m \u001b[0;34m=\u001b[0m \u001b[0mbaricentro\u001b[0m\u001b[0;34m(\u001b[0m\u001b[0my_random\u001b[0m\u001b[0;34m,\u001b[0m\u001b[0mdetectores_pos\u001b[0m\u001b[0;34m)\u001b[0m\u001b[0;34m[\u001b[0m\u001b[0;36m1\u001b[0m\u001b[0;34m]\u001b[0m\u001b[0;34m\u001b[0m\u001b[0;34m\u001b[0m\u001b[0m\n",
      "\u001b[0;31mTypeError\u001b[0m: baricentro() missing 1 required positional argument: 'umbral'"
     ]
    }
   ],
   "source": [
    "#Defino parametros de LDF \n",
    "r0 = 300 #metros \n",
    "s0 = 35 #VEM\n",
    "angulo = 0\n",
    "zenith = simZenith(-angulo,angulo)[0]\n",
    "azimuth = simZenith(-angulo,angulo)[1]\n",
    "b = 2.1    \n",
    "\n",
    "#Genero el punto random\n",
    "random_point = in_hex(poligono)\n",
    "\n",
    "#calculo las distancias entre el evento y los 7 detectores.\n",
    "distancias = getDistances(np.asarray(pointsx),np.asarray(pointsy),random_point[0],random_point[1],simZenith(-angulo,angulo)[0],simZenith(-angulo,angulo)[1])\n",
    "r = np.asarray(distancias[0])\n",
    "\n",
    "signal = powerlaw(r,s0,b)\n",
    "sigma_signal = np.sqrt(signal)\n",
    "\n",
    "#Hago el ajuste y defino la semilla inicial\n",
    "y_random = np.random.normal(signal,sigma_signal,size = len(signal)) #signal\n",
    "y_random = y_random[y_random > 2]\n",
    "sigma = np.sqrt(y_random)\n",
    "\n",
    "core_est_x = baricentro(y_random,detectores_pos)[0] \n",
    "core_est_y = baricentro(y_random,detectores_pos)[1] "
   ]
  },
  {
   "cell_type": "code",
   "execution_count": null,
   "id": "bed9aff3",
   "metadata": {},
   "outputs": [],
   "source": [
    "res = minimize(costo2, x0=(30,1,core_est_x,core_est_y))\n",
    "#print(res)\n",
    "print('Minimize results')\n",
    "print(\"Parametros ajustados: \", res.x)\n",
    "cova = 2*res.hess_inv\n",
    "par_error = np.sqrt(np.diagonal(cova))\n",
    "print('Errores de los parámetros', par_error)\n",
    "print(cova)"
   ]
  },
  {
   "cell_type": "code",
   "execution_count": null,
   "id": "354aec16",
   "metadata": {},
   "outputs": [],
   "source": [
    "plt.figure(figsize=(8,8))\n",
    "plt.scatter(pointsx,pointsy)\n",
    "plt.scatter(core_est_x,core_est_y,c='orange')\n",
    "plt.scatter(random_point[0],random_point[1],s = 90,c='green')\n",
    "plt.scatter(res.x[2],res.x[3],s = 90,c='red')\n",
    "plt.grid()\n"
   ]
  },
  {
   "cell_type": "code",
   "execution_count": 149,
   "id": "52c6a3b3",
   "metadata": {},
   "outputs": [
    {
     "name": "stderr",
     "output_type": "stream",
     "text": [
      "<ipython-input-6-e757db466ba7>:35: RuntimeWarning: overflow encountered in double_scalars\n",
      "  costo += z*z\n",
      "/Users/gunitettamanti/opt/anaconda3/lib/python3.8/site-packages/scipy/optimize/optimize.py:697: RuntimeWarning: invalid value encountered in subtract\n",
      "  df = (f(*((xk + d,) + args)) - f0) / d[k]\n",
      "<ipython-input-6-e757db466ba7>:35: RuntimeWarning: overflow encountered in double_scalars\n",
      "  costo += z*z\n"
     ]
    }
   ],
   "source": [
    "tries = 5000\n",
    "Figura = False\n",
    "\n",
    "r0 = 300 #metros \n",
    "s0 = 100 #VEM\n",
    "angulo = 0\n",
    "zenith = simZenith(-angulo,angulo)[0]\n",
    "azimuth = simZenith(-angulo,angulo)[1]\n",
    "b = 2.1  \n",
    "\n",
    "#Core de la lluvia estimado\n",
    "pos_res_x = []\n",
    "pos_res_y = []\n",
    "\n",
    "#Core de la lluvia estimado para las minimizaciones fallidas\n",
    "pos_res_x_f = []\n",
    "pos_res_y_f = []\n",
    "\n",
    "#Core de la lluvia simulado\n",
    "puntos_x = []\n",
    "puntos_y = []\n",
    "\n",
    "signals = []\n",
    "\n",
    "Falso = 0\n",
    "Verd = 0\n",
    "\n",
    "#Baricentro de los distintos eventos \n",
    "bar_x = []\n",
    "bar_y = []\n",
    "#Baricentro de los distintos eventos fallidos\n",
    "bar_x_f = []\n",
    "bar_y_f = []\n",
    "\n",
    "#Me guardo la distancia entre el core simulado y el estimado\n",
    "dist_core_sim = []\n",
    "\n",
    "resultados_f = []\n",
    "resultados_t = []\n",
    "\n",
    "umbral = 2\n",
    "\n",
    "for i in range(tries):\n",
    "    \n",
    "    #Genero el core de impacto de la lluvia\n",
    "    random_point = in_hex(poligono)\n",
    "\n",
    "    \n",
    "    #calculo las distancias entre el evento y los 7 detectores.\n",
    "    distancias = getDistances(np.asarray(pointsx),np.asarray(pointsy),random_point[0],random_point[1],simZenith(-angulo,angulo)[0],simZenith(-angulo,angulo)[1])\n",
    "    r = np.asarray(distancias[0])\n",
    "    \n",
    "    #Evalulo la señal \n",
    "    signal = powerlaw(r,s0,b)\n",
    "    sigma_signal = np.sqrt(signal)\n",
    "\n",
    "    #Randomizo la señal \n",
    "    y_random = np.random.normal(signal,sigma_signal,size = len(signal)) #señal simulada\n",
    "    \n",
    "    #Impongo filtro \n",
    "    y_random1 = y_random[y_random > umbral]\n",
    "    sigma = np.sqrt(y_random1)\n",
    "    \n",
    "    #Defino el baricentro para usarlo como la semilla inicial  \n",
    "    seed_x = baricentro(y_random,detectores_pos,umbral)[0] \n",
    "    seed_y = baricentro(y_random,detectores_pos,umbral)[1]\n",
    "    \n",
    "    #Inicio la minimizacion \n",
    "    res = minimize(costo2,x0=(30,1,seed_x,seed_y),tol = 1e-4)\n",
    "    \n",
    "    #Si la minimizacion fue exitosa...\n",
    "    if res.success == True:\n",
    "        \n",
    "        #Distancia entre core estimado y core simulado\n",
    "        dist_core_sim.append(np.sqrt((res.x[2] - random_point[0])**2 + (res.x[3] - random_point[1])**2))\n",
    "\n",
    "        #Me guardo el resultado de los distintos cores estimados\n",
    "        pos_res_x.append(res.x[2])\n",
    "        pos_res_y.append(res.x[3])\n",
    "        \n",
    "        Verd += 1\n",
    "        \n",
    "        bar_x.append(seed_x)\n",
    "        bar_y.append(seed_y)\n",
    "        \n",
    "        #Me guardo los cores simulados \n",
    "        puntos_x.append(random_point[0])\n",
    "        puntos_y.append(random_point[1])\n",
    "        \n",
    "        #Me guardo las señales filtradas\n",
    "        signals.append(y_random)\n",
    "        \n",
    "        #Me guardo el resultado de la simulacion\n",
    "        resultados_t.append(res)\n",
    "    \n",
    "    #Si la minimizacion fue exitosa...\n",
    "    if res.success == False:\n",
    "        #Me guardo el resultado de la simulacion\n",
    "        resultados_f.append(res)\n",
    "        \n",
    "        Falso += 1 \n",
    "        \n",
    "        #Me guardo los cores estimados para cuando la minimizacion falla\n",
    "        pos_res_x_f.append(res.x[2])\n",
    "        pos_res_y_f.append(res.x[3])\n",
    "        \n",
    "        #Me guardo los baricentros de las minimizaciones fallidas\n",
    "        bar_x_f.append(seed_x)\n",
    "        bar_y_f.append(seed_y)\n",
    "        \n",
    "        if Figura == True:\n",
    "            plt.figure(figsize=(8,8))\n",
    "            plt.scatter(pointsx,pointsy)\n",
    "            plt.scatter(seed_x,seed_y)\n",
    "            plt.scatter(random_point[0],random_point[1],s=90,c='green')\n",
    "            plt.scatter(res.x[2],res.x[3],s=90,c='red')\n",
    "            plt.text(x=seed_x, y=seed_y, s='Baricentro',size = 15)\n",
    "            plt.text(x=res.x[2],y=res.x[3], s='Core estimado',size = 15)\n",
    "            plt.text(x=random_point[0], y=random_point[1], s='Core simulado',size = 15)\n",
    "            plt.grid()\n",
    "            break\n",
    "        \n",
    "\n",
    "        "
   ]
  },
  {
   "cell_type": "code",
   "execution_count": 160,
   "id": "1913c719",
   "metadata": {},
   "outputs": [
    {
     "data": {
      "image/png": "[encoded data removed]",
      "text/plain": [
       "<Figure size 576x576 with 1 Axes>"
      ]
     },
     "metadata": {
      "needs_background": "light"
     },
     "output_type": "display_data"
    },
    {
     "data": {
      "image/png": "[encoded data removed]",
      "text/plain": [
       "<Figure size 576x576 with 1 Axes>"
      ]
     },
     "metadata": {
      "needs_background": "light"
     },
     "output_type": "display_data"
    }
   ],
   "source": [
    "plt.figure(figsize=(8,8))\n",
    "#plt.scatter(pos_res_x,pos_res_y,c='blue',alpha = 0.8)\n",
    "plt.scatter(pos_res_x_f,pos_res_y_f,c='red',alpha = 0.8)\n",
    "#plt.scatter(puntos_x,puntos_y,alpha = 0.2)\n",
    "#plt.scatter(bar_x_f,bar_y_f,c='orange',alpha = 0.8)\n",
    "plt.scatter(pointsx,pointsy)\n",
    "#plt.xlim(-500,500)\n",
    "#plt.ylim(-500,500)\n",
    "plt.grid()\n",
    "\n",
    "plt.figure(figsize=(8,8))\n",
    "plt.xlabel('Distancia entre el core simulado y el core estimado',size=15)\n",
    "plt.ylabel('Numero de eventos',size=15)\n",
    "plt.hist(dist_core_sim,bins=50)\n",
    "plt.grid()\n",
    "#plt.xlim(0,1500)\n",
    "#plt.ylim(0,2000)\n",
    "plt.show()"
   ]
  },
  {
   "cell_type": "code",
   "execution_count": 154,
   "id": "709ae533",
   "metadata": {},
   "outputs": [
    {
     "data": {
      "text/plain": [
       "0.0426"
      ]
     },
     "execution_count": 154,
     "metadata": {},
     "output_type": "execute_result"
    }
   ],
   "source": [
    "(Falso/(Verd+Falso))"
   ]
  },
  {
   "cell_type": "code",
   "execution_count": 157,
   "id": "2515ed07",
   "metadata": {},
   "outputs": [],
   "source": [
    "maximo = np.where(dist_core_sim == np.max(dist_core_sim))"
   ]
  },
  {
   "cell_type": "code",
   "execution_count": 158,
   "id": "adcdc164",
   "metadata": {},
   "outputs": [
    {
     "data": {
      "text/plain": [
       "      fun: 46.0209733727104\n",
       " hess_inv: array([[ 9.75826822e+01,  1.32774859e+00,  6.32907746e+01,\n",
       "        -1.17772257e+02],\n",
       "       [ 1.32774859e+00,  2.60777839e-02, -2.57341949e-01,\n",
       "        -2.03766220e+00],\n",
       "       [ 6.32907746e+01, -2.57341949e-01,  5.99148772e+02,\n",
       "        -3.46735115e+01],\n",
       "       [-1.17772257e+02, -2.03766220e+00, -3.46735115e+01,\n",
       "         1.67052477e+02]])\n",
       "      jac: array([ 0.00000000e+00,  4.52995300e-05, -9.53674316e-07, -4.76837158e-07])\n",
       "  message: 'Optimization terminated successfully.'\n",
       "     nfev: 636\n",
       "      nit: 76\n",
       "     njev: 106\n",
       "   status: 0\n",
       "  success: True\n",
       "        x: array([ 88.47587641,   1.34253321, 431.0403712 , -41.14254652])"
      ]
     },
     "execution_count": 158,
     "metadata": {},
     "output_type": "execute_result"
    }
   ],
   "source": [
    "resultados_t[maximo[0][0]]"
   ]
  },
  {
   "cell_type": "code",
   "execution_count": 159,
   "id": "0b1ce960",
   "metadata": {},
   "outputs": [
    {
     "data": {
      "image/png": "[encoded data removed]",
      "text/plain": [
       "<Figure size 720x720 with 1 Axes>"
      ]
     },
     "metadata": {
      "needs_background": "light"
     },
     "output_type": "display_data"
    }
   ],
   "source": [
    "plt.figure(figsize=(10,10))\n",
    "plt.scatter(pointsx,pointsy)\n",
    "plt.scatter(bar_x[maximo[0][0]],bar_y[maximo[0][0]],c='orange')\n",
    "plt.scatter(puntos_x[maximo[0][0]],puntos_y[maximo[0][0]],s = 90,c='green')\n",
    "plt.scatter(resultados_t[maximo[0][0]].x[2],resultados_t[maximo[0][0]].x[3],s = 90,c='red')\n",
    "plt.text(x=bar_x[maximo[0][0]], y=bar_y[maximo[0][0]], s='Baricentro',size = 15)\n",
    "plt.text(x=resultados_t[maximo[0][0]].x[2], y=resultados_t[maximo[0][0]].x[3], s='Core estimado',size = 15)\n",
    "plt.text(x=puntos_x[maximo[0][0]], y=puntos_y[maximo[0][0]], s='Core simulado',size = 15)\n",
    "plt.grid()\n"
   ]
  },
  {
   "cell_type": "code",
   "execution_count": 137,
   "id": "3ea28968",
   "metadata": {},
   "outputs": [
    {
     "data": {
      "text/plain": [
       "array([ 3.15486534, 16.2778047 , 75.31692323, 56.45061372,  8.82660799,\n",
       "        4.49383232, 17.53816207])"
      ]
     },
     "execution_count": 137,
     "metadata": {},
     "output_type": "execute_result"
    }
   ],
   "source": [
    "signals[maximo[0][0]]"
   ]
  }
 ],
 "metadata": {
  "kernelspec": {
   "display_name": "Python 3",
   "language": "python",
   "name": "python3"
  },
  "language_info": {
   "codemirror_mode": {
    "name": "ipython",
    "version": 3
   },
   "file_extension": ".py",
   "mimetype": "text/x-python",
   "name": "python",
   "nbconvert_exporter": "python",
   "pygments_lexer": "ipython3",
   "version": "3.8.8"
  }
 },
 "nbformat": 4,
 "nbformat_minor": 5
}
