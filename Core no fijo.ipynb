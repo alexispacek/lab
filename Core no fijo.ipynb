{
 "cells": [
  {
   "cell_type": "code",
   "execution_count": 146,
   "id": "2d629a23",
   "metadata": {},
   "outputs": [],
   "source": [
    "from scipy.optimize import minimize\n",
    "from scipy.optimize import curve_fit\n",
    "import math\n",
    "import numpy as np\n",
    "import matplotlib.pyplot as plt\n",
    "import matplotlib.path as mpltPath\n",
    "import math as math\n",
    "from scipy.stats import chisquare"
   ]
  },
  {
   "cell_type": "code",
   "execution_count": 277,
   "id": "6fa42987",
   "metadata": {},
   "outputs": [],
   "source": [
    "def powerlaw(r, s0, b):  \n",
    "    # r0 no es variable aleatoria\n",
    "    r0 = 300\n",
    "    return s0*(r0/r)**(b)\n",
    "\n",
    "def baricentro(signal,det_pos):\n",
    "    sum_s = 0\n",
    "    bari_x = 0\n",
    "    bari_y = 0\n",
    "    for i in range(len(det_pos)):\n",
    "        \n",
    "        if signal[i] > 2:\n",
    "            bari_x += signal[i]*det_pos[i][0]\n",
    "            bari_y += signal[i]*det_pos[i][1]\n",
    "            sum_s  += signal[i]\n",
    "            \n",
    "    return(bari_x/sum_s,bari_y/sum_s)\n",
    "    \n",
    "\n",
    "\n",
    "#estimacion inicial del core es el baricentro\n",
    "\n",
    "def funcion_costo2(theta,x_pos,y_pos,signal_sim,zenith,azimuth,ysigma):\n",
    "\n",
    "        s0 = theta[0]\n",
    "        b = theta[1]\n",
    "        x_core = theta[2]\n",
    "        y_core = theta[3]\n",
    "        \n",
    "        costo = np.zeros_like(s0)\n",
    "\n",
    "        for (dist_x,dist_y,y1,sigma1) in zip(x_pos,y_pos,signal_sim,ysigma):\n",
    "            \n",
    "            dist = getDistances(dist_x,dist_y,x_core,y_core,zenith,azimuth)[0]\n",
    "            yfit = powerlaw(dist, s0, b)\n",
    "            residuo = y1 - yfit\n",
    "            z = (residuo / sigma1)\n",
    "            costo += z*z\n",
    "\n",
    "        return costo\n",
    "    \n",
    "costo2 = lambda theta: funcion_costo2(theta,x_det,y_det,y_random1,zenith,azimuth,sigma) \n",
    "\n",
    "def in_hex(poli):\n",
    "    path = mpltPath.Path(poli)\n",
    "    hex = False\n",
    "    random_point = (np.random.uniform(-433,433),np.random.uniform(-375,375))\n",
    "    while hex != True:\n",
    "        if path.contains_points([random_point]) == True:\n",
    "            hex = True\n",
    "        else:\n",
    "            random_point = (np.random.uniform(-433,433),np.random.uniform(-375,375))\n",
    "    return random_point\n",
    "\n",
    "def getDistances(xpositions, ypositions, x0=0, y0=0, zenithRad=0, azimuthRad=0):\n",
    "\n",
    "    dx = xpositions - x0    # detector wrt core positions\n",
    "    dy = ypositions - y0\n",
    "    \n",
    "    groundDistances = np.sqrt(dx*dx+dy*dy)\n",
    "\n",
    "    # Direction cosines in the plane xy\n",
    "    dirx =  math.cos(azimuthRad)\n",
    "    diry =  math.sin(azimuthRad)\n",
    "\n",
    "    axisProjections = math.sin(zenithRad) * (dx*dirx+dy*diry)\n",
    "    \n",
    "    distances = np.sqrt( groundDistances**2 - axisProjections**2 )\n",
    "    \n",
    "    return (distances,axisProjections,groundDistances)\n",
    "\n",
    "def simZenith(zenithMinDeg, zenithMaxDeg) :\n",
    "\n",
    "    zenithMinRad = math.radians(zenithMinDeg)\n",
    "    sin2MinZenith = math.sin(zenithMinRad)**2\n",
    "\n",
    "    zenithMaxRad = math.radians(zenithMaxDeg)\n",
    "    sin2MaxZenith = math.sin(zenithMaxRad)**2\n",
    "\n",
    "    rng = np.random.default_rng()\n",
    "    u = rng.random() \n",
    "    \n",
    "    sin2Zenith = sin2MinZenith + u * (sin2MaxZenith-sin2MinZenith)\n",
    "    sinZenith = math.sqrt(sin2Zenith) \n",
    "\n",
    "    zenith = math.asin(sinZenith)\n",
    "    azimut = np.random.uniform(0,2*np.pi)\n",
    "    \n",
    "    return (zenith,azimut)\n",
    "\n",
    "poligono = [[-216.5,-375],[216.5,-375],[433,0],[216.5,375],[-216.5,375],[-433,0]]\n",
    "detectores_pos = [[-216.5,-375],[216.5,-375],[433,0],[216.5,375],[-216.5,375],[-433,0],[0,0]]\n",
    "rectangulo = [[-433,-375],[433,-433],[433,375],[-433,375]]\n",
    "pointsx,pointsy = [-216.5,216.5,433,216.5,-216.5,-433.5,0] , [-375,-375,0,375,375,0,0]\n",
    "random_point = in_hex(poligono)\n",
    "centro = (0,0)\n",
    "x_det = np.zeros(len(detectores_pos))\n",
    "y_det = np.zeros(len(detectores_pos))\n",
    "for i in range(len(detectores_pos)):\n",
    "    x_det[i] = detectores_pos[i][0]\n",
    "    y_det[i] = detectores_pos[i][1]"
   ]
  },
  {
   "cell_type": "code",
   "execution_count": 441,
   "id": "e7c41e8c",
   "metadata": {},
   "outputs": [],
   "source": [
    "#Defino parametros de LDF \n",
    "r0 = 300 #metros \n",
    "s0 = 35 #VEM\n",
    "angulo = 0\n",
    "zenith = simZenith(-angulo,angulo)[0]\n",
    "azimuth = simZenith(-angulo,angulo)[1]\n",
    "b = 2.1    \n",
    "\n",
    "#Genero el punto random\n",
    "random_point = in_hex(poligono)\n",
    "\n",
    "#calculo las distancias entre el evento y los 7 detectores.\n",
    "distancias = getDistances(np.asarray(pointsx),np.asarray(pointsy),random_point[0],random_point[1],simZenith(-angulo,angulo)[0],simZenith(-angulo,angulo)[1])\n",
    "r = np.asarray(distancias[0])\n",
    "\n",
    "signal = powerlaw(r,s0,b)\n",
    "sigma_signal = np.sqrt(signal)\n",
    "\n",
    "#Hago el ajuste y defino la semilla inicial\n",
    "y_random = np.random.normal(signal,sigma_signal,size = len(signal)) #signal\n",
    "y_random = y_random[y_random > 2]\n",
    "sigma = np.sqrt(y_random)\n",
    "\n",
    "core_est_x = baricentro(y_random,detectores_pos)[0] \n",
    "core_est_y = baricentro(y_random,detectores_pos)[1] "
   ]
  },
  {
   "cell_type": "code",
   "execution_count": 222,
   "id": "bed9aff3",
   "metadata": {},
   "outputs": [
    {
     "name": "stdout",
     "output_type": "stream",
     "text": [
      "Minimize results\n",
      "Parametros ajustados:  [ 36.01897123   2.19168713  96.70750247 342.35205989]\n",
      "Errores de los parámetros [3.07409078 0.12942122 4.24135265 1.55228872]\n",
      "[[ 9.45003413e+00 -1.94421201e-01 -1.05622566e+01  3.37047950e+00]\n",
      " [-1.94421201e-01  1.67498516e-02  8.81421690e-02 -2.81857382e-02]\n",
      " [-1.05622566e+01  8.81421690e-02  1.79890723e+01 -6.29135901e+00]\n",
      " [ 3.37047950e+00 -2.81857382e-02 -6.29135901e+00  2.40960026e+00]]\n"
     ]
    }
   ],
   "source": [
    "res = minimize(costo2, x0=(30,1,core_est_x,core_est_y))\n",
    "#print(res)\n",
    "print('Minimize results')\n",
    "print(\"Parametros ajustados: \", res.x)\n",
    "cova = 2*res.hess_inv\n",
    "par_error = np.sqrt(np.diagonal(cova))\n",
    "print('Errores de los parámetros', par_error)\n",
    "print(cova)"
   ]
  },
  {
   "cell_type": "code",
   "execution_count": 223,
   "id": "354aec16",
   "metadata": {},
   "outputs": [
    {
     "data": {
      "image/png": "[encoded data removed]",
      "text/plain": [
       "<Figure size 576x576 with 1 Axes>"
      ]
     },
     "metadata": {
      "needs_background": "light"
     },
     "output_type": "display_data"
    }
   ],
   "source": [
    "plt.figure(figsize=(8,8))\n",
    "plt.scatter(pointsx,pointsy)\n",
    "plt.scatter(core_est_x,core_est_y,c='orange')\n",
    "plt.scatter(random_point[0],random_point[1],s = 90,c='green')\n",
    "plt.scatter(res.x[2],res.x[3],s = 90,c='red')\n",
    "plt.grid()\n"
   ]
  },
  {
   "cell_type": "code",
   "execution_count": 224,
   "id": "24cf25d4",
   "metadata": {},
   "outputs": [
    {
     "data": {
      "text/plain": [
       "((106.88722120801049, 344.82926247050636),\n",
       " (96.70750246854922, 342.35205988901686),\n",
       " 10.476793700568754,\n",
       " True)"
      ]
     },
     "execution_count": 224,
     "metadata": {},
     "output_type": "execute_result"
    }
   ],
   "source": [
    "random_point,(res.x[2],res.x[3]),getDistances(random_point[0],random_point[1],res.x[2],res.x[3],0,0)[0],res.success"
   ]
  },
  {
   "cell_type": "code",
   "execution_count": 453,
   "id": "52c6a3b3",
   "metadata": {},
   "outputs": [
    {
     "name": "stderr",
     "output_type": "stream",
     "text": [
      "/Users/gunitettamanti/opt/anaconda3/lib/python3.8/site-packages/scipy/optimize/optimize.py:1058: RuntimeWarning: divide by zero encountered in double_scalars\n",
      "  rhok = 1.0 / (numpy.dot(yk, sk))\n",
      "/Users/gunitettamanti/opt/anaconda3/lib/python3.8/site-packages/scipy/optimize/optimize.py:1058: RuntimeWarning: divide by zero encountered in double_scalars\n",
      "  rhok = 1.0 / (numpy.dot(yk, sk))\n",
      "<ipython-input-277-fee6b3c72f2b>:38: RuntimeWarning: overflow encountered in double_scalars\n",
      "  costo += z*z\n",
      "/Users/gunitettamanti/opt/anaconda3/lib/python3.8/site-packages/scipy/optimize/optimize.py:697: RuntimeWarning: invalid value encountered in subtract\n",
      "  df = (f(*((xk + d,) + args)) - f0) / d[k]\n",
      "<ipython-input-277-fee6b3c72f2b>:38: RuntimeWarning: overflow encountered in double_scalars\n",
      "  costo += z*z\n",
      "/Users/gunitettamanti/opt/anaconda3/lib/python3.8/site-packages/scipy/optimize/optimize.py:1058: RuntimeWarning: divide by zero encountered in double_scalars\n",
      "  rhok = 1.0 / (numpy.dot(yk, sk))\n"
     ]
    }
   ],
   "source": [
    "tries = 5000\n",
    "\n",
    "dif_est_x = np.zeros(tries)\n",
    "dif_est_y = np.zeros(tries)\n",
    "\n",
    "Falso = 0\n",
    "Verd = 0\n",
    "\n",
    "puntos_x = []\n",
    "puntos_y = []\n",
    "\n",
    "error = np.zeros(tries)\n",
    "\n",
    "resultados_f = []\n",
    "resultados_t = []\n",
    "\n",
    "for i in range(tries):\n",
    "    #Genero el punto random\n",
    "    random_point = in_hex(poligono)\n",
    "    puntos_x.append(random_point[0])\n",
    "    puntos_y.append(random_point[1])\n",
    "    \n",
    "    #calculo las distancias entre el evento y los 7 detectores.\n",
    "    distancias = getDistances(np.asarray(pointsx),np.asarray(pointsy),random_point[0],random_point[1],simZenith(-angulo,angulo)[0],simZenith(-angulo,angulo)[1])\n",
    "    r = np.asarray(distancias[0])\n",
    "\n",
    "    signal = powerlaw(r,s0,b)\n",
    "    sigma_signal = np.sqrt(signal)\n",
    "\n",
    "    #Hago el ajuste y defino la semilla inicial\n",
    "    y_random = np.random.normal(signal,sigma_signal,size = len(signal)) #signal\n",
    "    y_random1 = y_random[y_random > 2]\n",
    "\n",
    "    sigma = np.sqrt(y_random1)\n",
    "\n",
    "    core_est_x = baricentro(y_random,detectores_pos)[0] \n",
    "    core_est_y = baricentro(y_random,detectores_pos)[1] \n",
    "    \n",
    "    res = minimize(costo2, x0=(30,1,core_est_x,core_est_y))\n",
    "    \n",
    "    if res.success == True:\n",
    "        error[i] = np.sqrt((res.x[2] - random_point[0])**2 + (res.x[3] - random_point[1])**2)\n",
    "        dif_est_x[i] = res.x[2]\n",
    "        dif_est_y[i] = res.x[3]\n",
    "        Verd += 1\n",
    "        if error[i] > 100:\n",
    "            resultados_t.append(res)\n",
    "            \n",
    "            \n",
    "    if res.success == False:\n",
    "        resultados_f.append(res)\n",
    "        Falso += 1 \n",
    "        dif_est_x[i] = res.x[2]\n",
    "        dif_est_y[i] = res.x[3]\n",
    "        #plt.figure(figsize=(8,8))\n",
    "        #plt.scatter(pointsx,pointsy)\n",
    "        #plt.scatter(core_est_x,core_est_y)\n",
    "        #plt.scatter(random_point[0],random_point[1],s=90,c='green')\n",
    "        #plt.scatter(res.x[2],res.x[3],s=90,c='red')\n",
    "        #break\n",
    "        \n",
    "\n",
    "        "
   ]
  },
  {
   "cell_type": "code",
   "execution_count": 457,
   "id": "1913c719",
   "metadata": {},
   "outputs": [
    {
     "data": {
      "text/plain": [
       "(0.0, 2000.0)"
      ]
     },
     "execution_count": 457,
     "metadata": {},
     "output_type": "execute_result"
    },
    {
     "data": {
      "image/png": "[encoded data removed]",
      "text/plain": [
       "<Figure size 576x576 with 1 Axes>"
      ]
     },
     "metadata": {
      "needs_background": "light"
     },
     "output_type": "display_data"
    },
    {
     "data": {
      "image/png": "[encoded data removed]",
      "text/plain": [
       "<Figure size 576x576 with 1 Axes>"
      ]
     },
     "metadata": {
      "needs_background": "light"
     },
     "output_type": "display_data"
    }
   ],
   "source": [
    "plt.figure(figsize=(8,8))\n",
    "plt.scatter(dif_est_x,dif_est_y)\n",
    "plt.scatter(puntos_x,puntos_y,alpha = 0.9)\n",
    "plt.figure(figsize=(8,8))\n",
    "plt.hist(error,bins=50)\n",
    "plt.xlim(0,1500)\n",
    "plt.ylim(0,2000)"
   ]
  },
  {
   "cell_type": "code",
   "execution_count": 455,
   "id": "709ae533",
   "metadata": {},
   "outputs": [
    {
     "data": {
      "text/plain": [
       "0.1138"
      ]
     },
     "execution_count": 455,
     "metadata": {},
     "output_type": "execute_result"
    }
   ],
   "source": [
    "Falso/(Verd+Falso)"
   ]
  },
  {
   "cell_type": "code",
   "execution_count": 458,
   "id": "2515ed07",
   "metadata": {},
   "outputs": [
    {
     "data": {
      "text/plain": [
       "963.1077589264347"
      ]
     },
     "execution_count": 458,
     "metadata": {},
     "output_type": "execute_result"
    }
   ],
   "source": [
    "np.max(error)"
   ]
  }
 ],
 "metadata": {
  "kernelspec": {
   "display_name": "Python 3",
   "language": "python",
   "name": "python3"
  },
  "language_info": {
   "codemirror_mode": {
    "name": "ipython",
    "version": 3
   },
   "file_extension": ".py",
   "mimetype": "text/x-python",
   "name": "python",
   "nbconvert_exporter": "python",
   "pygments_lexer": "ipython3",
   "version": "3.8.8"
  }
 },
 "nbformat": 4,
 "nbformat_minor": 5
}
