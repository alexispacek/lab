{
 "cells": [
  {
   "cell_type": "code",
   "execution_count": 30,
   "id": "7a1bcef4",
   "metadata": {},
   "outputs": [],
   "source": [
    "from scipy.optimize import minimize\n",
    "from scipy.optimize import curve_fit\n",
    "import math\n",
    "import numpy as np\n",
    "import matplotlib.pyplot as plt\n",
    "import matplotlib.path as mpltPath\n",
    "import math as math"
   ]
  },
  {
   "cell_type": "code",
   "execution_count": 3,
   "id": "e005d050",
   "metadata": {},
   "outputs": [
    {
     "name": "stdout",
     "output_type": "stream",
     "text": [
      "Requirement already satisfied: scipy==1.4.1 in /Users/gunitettamanti/opt/anaconda3/lib/python3.8/site-packages (1.4.1)\n",
      "Requirement already satisfied: numpy>=1.13.3 in /Users/gunitettamanti/opt/anaconda3/lib/python3.8/site-packages (from scipy==1.4.1) (1.20.1)\n",
      "Note: you may need to restart the kernel to use updated packages.\n"
     ]
    }
   ],
   "source": [
    "pip install --upgrade scipy==1.4.1"
   ]
  },
  {
   "cell_type": "code",
   "execution_count": 231,
   "id": "82c2925d",
   "metadata": {},
   "outputs": [],
   "source": [
    "def powerlaw(r, s0, b):  \n",
    "    # r0 no es variable aleatoria\n",
    "    r0 = 300\n",
    "    return s0*(r/r0)**(-b)\n",
    "\n",
    "\n",
    "\n",
    "def funcion_costo2(theta, xdata, ydata, ysigma):\n",
    "        s0 = theta[0]\n",
    "        b = theta[1]\n",
    "        costo = np.zeros_like(s0)\n",
    "        for (dist, y1, sigma1) in zip(xdata, ydata, ysigma):\n",
    "            yfit = powerlaw(dist,s0,b)\n",
    "            residuo = y1 - yfit\n",
    "            z = (residuo / sigma1)**2\n",
    "            costo += z\n",
    "        return costo\n",
    "    \n",
    "costo2 = lambda theta: funcion_costo2(theta,r,y_random,sigma) \n",
    "\n",
    "def in_hex(poli):\n",
    "    path = mpltPath.Path(poli)\n",
    "    hex = False\n",
    "    random_point = (np.random.uniform(-433,433),np.random.uniform(-375,375))\n",
    "    while hex != True:\n",
    "        if path.contains_points([random_point]) == True:\n",
    "            hex = True\n",
    "        else:\n",
    "            random_point = (np.random.uniform(-433,433),np.random.uniform(-375,375))\n",
    "    return random_point\n",
    "\n",
    "def getDistances(xpositions, ypositions, x0=0, y0=0, zenithRad=0, azimuthRad=0):\n",
    "\n",
    "    dx = xpositions - x0    # detector wrt core positions\n",
    "    dy = ypositions - y0\n",
    "    \n",
    "    groundDistances = np.sqrt(dx*dx+dy*dy)\n",
    "\n",
    "    # Direction cosines in the plane xy\n",
    "    dirx =  math.cos(azimuthRad)\n",
    "    diry =  math.sin(azimuthRad)\n",
    "\n",
    "    axisProjections = math.sin(zenithRad) * (dx*dirx+dy*diry)\n",
    "    \n",
    "    distances = np.sqrt( groundDistances**2 - axisProjections**2 )\n",
    "    \n",
    "    return (distances,axisProjections,groundDistances)\n",
    "\n",
    "def simZenith(zenithMinDeg, zenithMaxDeg) :\n",
    "\n",
    "    zenithMinRad = math.radians(zenithMinDeg)\n",
    "    sin2MinZenith = math.sin(zenithMinRad)**2\n",
    "\n",
    "    zenithMaxRad = math.radians(zenithMaxDeg)\n",
    "    sin2MaxZenith = math.sin(zenithMaxRad)**2\n",
    "\n",
    "    rng = np.random.default_rng()\n",
    "    u = rng.random() \n",
    "    \n",
    "    sin2Zenith = sin2MinZenith + u * (sin2MaxZenith-sin2MinZenith)\n",
    "    sinZenith = math.sqrt(sin2Zenith) \n",
    "\n",
    "    zenith = math.asin(sinZenith)\n",
    "    azimut = np.random.uniform(0,2*np.pi)\n",
    "    \n",
    "    return (zenith,azimut)\n",
    "\n",
    "poligono = [[-216.5,-375],[216.5,-375],[433,0],[216.5,375],[-216.5,375],[-433,0]]\n",
    "rectangulo = [[-433,-375],[433,-433],[433,375],[-433,375]]\n",
    "pointsx,pointsy = [-216.5,216.5,433,216.5,-216.5,-433.5,0] , [-375,-375,0,375,375,0,0]\n",
    "random_point = in_hex(poligono)\n",
    "centro = (0,0)"
   ]
  },
  {
   "cell_type": "code",
   "execution_count": 7,
   "id": "515d5ff8",
   "metadata": {},
   "outputs": [
    {
     "name": "stdout",
     "output_type": "stream",
     "text": [
      "Parametros ajustados:  [1.45227346 0.79909061]\n",
      "Covarianza estimada:  [[ 0.51954543 -0.20454545]\n",
      " [-0.20454545  0.08181818]]\n",
      "Errores de los parámetros [0.720795   0.28603877]\n"
     ]
    }
   ],
   "source": [
    "print(\"Parametros ajustados: \", res.x)\n",
    "cova = res.hess_inv\n",
    "print(\"Covarianza estimada: \", 2*cova)  \n",
    "par_error = np.sqrt(np.diagonal(2*cova))\n",
    "print(\"Errores de los parámetros\", par_error)"
   ]
  },
  {
   "cell_type": "code",
   "execution_count": 232,
   "id": "4b31405e",
   "metadata": {},
   "outputs": [
    {
     "name": "stdout",
     "output_type": "stream",
     "text": [
      "Curve_fit results\n",
      "Parametros ajustados:  [34.00306355  2.06489262]\n",
      "Errores de los parámetros [2.55003054 0.13685325]\n",
      "[[ 6.50265576 -0.21791854]\n",
      " [-0.21791854  0.01872881]]\n"
     ]
    }
   ],
   "source": [
    "#Defino parametros de LDF \n",
    "r0 = 300 #metros \n",
    "s0 = 35 #VEM\n",
    "angulo = 40\n",
    "b = 2.1    \n",
    "#Genero el punto random\n",
    "random_point = in_hex(poligono)\n",
    "#calculo las distancias entre el evento y los 7 detectores.\n",
    "distancias = getDistances(np.asarray(pointsx),np.asarray(pointsy),random_point[0],random_point[1],simZenith(-angulo,angulo)[0],simZenith(-angulo,angulo)[1])\n",
    "r = np.asarray(distancias[0])\n",
    "\n",
    "\n",
    "signal = powerlaw(r,s0,b)\n",
    "sigma = np.sqrt(signal)\n",
    "\n",
    "#Hago el ajuste y defino la semilla inicial\n",
    "y_random = np.random.normal(signal,sigma,size = len(signal)) #signal\n",
    "params=[35, 1]\n",
    "popt, pcov = curve_fit(powerlaw, r, y_random, p0=params,sigma=sigma,absolute_sigma=True)\n",
    "print('Curve_fit results')\n",
    "print(\"Parametros ajustados: \",popt)\n",
    "print(\"Errores de los parámetros\", np.sqrt(np.diag(pcov)))\n",
    "print(pcov)"
   ]
  },
  {
   "cell_type": "code",
   "execution_count": 233,
   "id": "ebf24afa",
   "metadata": {},
   "outputs": [
    {
     "name": "stdout",
     "output_type": "stream",
     "text": [
      "Minimize results\n",
      "Parametros ajustados:  [34.00306549  2.06489246]\n",
      "Errores de los parámetros [2.53449946 0.13294532]\n",
      "[[ 6.4236875  -0.20676433]\n",
      " [-0.20676433  0.01767446]]\n"
     ]
    }
   ],
   "source": [
    "res = minimize(costo2, x0=(30,1))\n",
    "print('Minimize results')\n",
    "print(\"Parametros ajustados: \", res.x)\n",
    "cova = 2*res.hess_inv\n",
    "par_error = np.sqrt(np.diagonal(cova))\n",
    "print(\"Errores de los parámetros\", par_error)\n",
    "print(cova)"
   ]
  }
 ],
 "metadata": {
  "kernelspec": {
   "display_name": "Python 3",
   "language": "python",
   "name": "python3"
  },
  "language_info": {
   "codemirror_mode": {
    "name": "ipython",
    "version": 3
   },
   "file_extension": ".py",
   "mimetype": "text/x-python",
   "name": "python",
   "nbconvert_exporter": "python",
   "pygments_lexer": "ipython3",
   "version": "3.8.8"
  }
 },
 "nbformat": 4,
 "nbformat_minor": 5
}
