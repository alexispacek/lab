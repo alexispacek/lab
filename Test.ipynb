{
 "cells": [
  {
   "cell_type": "code",
   "execution_count": 1,
   "id": "7a1bcef4",
   "metadata": {},
   "outputs": [],
   "source": [
    "from scipy.optimize import minimize\n",
    "from scipy.optimize import curve_fit\n",
    "import math\n",
    "import numpy as np\n",
    "import matplotlib.pyplot as plt\n",
    "import matplotlib.path as mpltPath"
   ]
  },
  {
   "cell_type": "code",
   "execution_count": 2,
   "id": "e005d050",
   "metadata": {},
   "outputs": [
    {
     "name": "stdout",
     "output_type": "stream",
     "text": [
      "Requirement already satisfied: scipy==1.4.1 in /Users/gunitettamanti/opt/anaconda3/lib/python3.8/site-packages (1.4.1)\n",
      "Requirement already satisfied: numpy>=1.13.3 in /Users/gunitettamanti/opt/anaconda3/lib/python3.8/site-packages (from scipy==1.4.1) (1.20.1)\n",
      "Note: you may need to restart the kernel to use updated packages.\n"
     ]
    }
   ],
   "source": [
    "pip install --upgrade scipy==1.4.1"
   ]
  },
  {
   "cell_type": "code",
   "execution_count": 45,
   "id": "82c2925d",
   "metadata": {},
   "outputs": [],
   "source": [
    "def powerlaw(r, s0, b):  \n",
    "    # r0 no es variable aleatoria\n",
    "    r0 = 300\n",
    "    return s0*(r/r0)**(-b)\n",
    "\n",
    "def modelo(x, y0, m):\n",
    "    return y0 + m * x\n",
    "\n",
    "def funcion_costo(theta, xdata, ydata, ysigma):\n",
    "        y0 = theta[0]\n",
    "        m = theta[1]\n",
    "        costo = np.zeros_like(y0)\n",
    "        for (x1, y1, sigma1) in zip(xdata, ydata, ysigma):\n",
    "            residuo = y1 - modelo(x1, y0, m)\n",
    "            z = residuo / sigma1\n",
    "            costo += z*z\n",
    "        return costo\n",
    "    \n",
    "costo = lambda theta: funcion_costo(theta, x, y, sigmay)  \n",
    "\n",
    "def funcion_costo2(theta, xdata, ydata, ysigma):\n",
    "        s0 = theta[0]\n",
    "        b = theta[1]\n",
    "        costo = np.zeros_like(s0)\n",
    "        for (r, y1, sigma1) in zip(xdata, ydata, ysigma):\n",
    "            residuo = y1 - powerlaw(r, s0, b)\n",
    "            z = residuo / sigma1\n",
    "            costo += z*z\n",
    "        return costo\n",
    "    \n",
    "costo2 = lambda theta: funcion_costo2(theta, r, y_random, sigma) \n",
    "\n",
    "def in_hex(poli):\n",
    "    path = mpltPath.Path(poli)\n",
    "    hex = False\n",
    "    random_point = (np.random.uniform(-433,433),np.random.uniform(-375,375))\n",
    "    while hex != True:\n",
    "        if path.contains_points([random_point]) == True:\n",
    "            hex = True\n",
    "        else:\n",
    "            random_point = (np.random.uniform(-433,433),np.random.uniform(-375,375))\n",
    "    return random_point\n",
    "\n",
    "def getDistances(xpositions, ypositions, x0=0, y0=0, zenithRad=0, azimuthRad=0):\n",
    "\n",
    "    dx = xpositions - x0    # detector wrt core positions\n",
    "    dy = ypositions - y0\n",
    "    \n",
    "    groundDistances = np.sqrt(dx*dx+dy*dy)\n",
    "\n",
    "    # Direction cosines in the plane xy\n",
    "    dirx =  math.cos(azimuthRad)\n",
    "    diry =  math.sin(azimuthRad)\n",
    "\n",
    "    axisProjections = math.sin(zenithRad) * (dx*dirx+dy*diry)\n",
    "    \n",
    "    distances = np.sqrt( groundDistances**2 - axisProjections**2 )\n",
    "    \n",
    "    return distances\n",
    "\n",
    "def simZenith(zenithMinDeg, zenithMaxDeg) :\n",
    "\n",
    "    zenithMinRad = math.radians(zenithMinDeg)\n",
    "    sin2MinZenith = math.sin(zenithMinRad)**2\n",
    "\n",
    "    zenithMaxRad = math.radians(zenithMaxDeg)\n",
    "    sin2MaxZenith = math.sin(zenithMaxRad)**2\n",
    "\n",
    "    rng = np.random.default_rng()\n",
    "    u = rng.random() \n",
    "    \n",
    "    sin2Zenith = sin2MinZenith + u * (sin2MaxZenith-sin2MinZenith)\n",
    "    sinZenith = math.sqrt(sin2Zenith) \n",
    "\n",
    "    zenith = math.asin(sinZenith)\n",
    "    azimut = np.random.uniform(0,2*np.pi)\n",
    "    \n",
    "    return (zenith,azimut)\n",
    "\n",
    "poligono = [[-216.5,-375],[216.5,-375],[433,0],[216.5,375],[-216.5,375],[-433,0]]\n",
    "rectangulo = [[-433,-375],[433,-433],[433,375],[-433,375]]\n",
    "pointsx,pointsy = [-216.5,216.5,433,216.5,-216.5,-433.5,0] , [-375,-375,0,375,375,0,0]\n",
    "random_point = in_hex(poligono)\n",
    "centro = (0,0)"
   ]
  },
  {
   "cell_type": "code",
   "execution_count": 4,
   "id": "8c020bb8",
   "metadata": {},
   "outputs": [],
   "source": [
    "x = np.linspace(2,3,11)\n",
    "y = [2.78, 3.29, 3.29, 3.33, 3.23, 3.69, 3.46, 3.87, 3.62, 3.40, 3.99]\n",
    "sigmay = [0.3]*len(y)"
   ]
  },
  {
   "cell_type": "code",
   "execution_count": 5,
   "id": "e28ce862",
   "metadata": {},
   "outputs": [
    {
     "data": {
      "text/plain": [
       "      fun: 4.639989898990976\n",
       " hess_inv: array([[ 0.25977272, -0.10227272],\n",
       "       [-0.10227272,  0.04090909]])\n",
       "      jac: array([ 5.96046448e-08, -1.78813934e-07])\n",
       "  message: 'Optimization terminated successfully.'\n",
       "     nfev: 28\n",
       "      nit: 5\n",
       "     njev: 7\n",
       "   status: 0\n",
       "  success: True\n",
       "        x: array([1.45227346, 0.79909061])"
      ]
     },
     "execution_count": 5,
     "metadata": {},
     "output_type": "execute_result"
    }
   ],
   "source": [
    "res = minimize(costo, x0=(0,0))\n",
    "res"
   ]
  },
  {
   "cell_type": "code",
   "execution_count": 6,
   "id": "515d5ff8",
   "metadata": {},
   "outputs": [
    {
     "name": "stdout",
     "output_type": "stream",
     "text": [
      "Parametros ajustados:  [1.45227346 0.79909061]\n",
      "Covarianza estimada:  [[ 0.51954543 -0.20454545]\n",
      " [-0.20454545  0.08181818]]\n",
      "Errores de los parámetros [0.720795   0.28603877]\n"
     ]
    }
   ],
   "source": [
    "print(\"Parametros ajustados: \", res.x)\n",
    "cova = res.hess_inv\n",
    "print(\"Covarianza estimada: \", 2*cova)  \n",
    "par_error = np.sqrt(np.diagonal(2*cova))\n",
    "print(\"Errores de los parámetros\", par_error)"
   ]
  },
  {
   "cell_type": "code",
   "execution_count": 58,
   "id": "4b31405e",
   "metadata": {},
   "outputs": [
    {
     "name": "stdout",
     "output_type": "stream",
     "text": [
      "curve_fit results [40.13197817  1.96074644] [2.35368646 0.0782229 ]\n",
      "[[ 5.53983994 -0.17010585]\n",
      " [-0.17010585  0.00611882]]\n"
     ]
    }
   ],
   "source": [
    "#Defino parametros de LDF \n",
    "r0 = 300 #metros \n",
    "s0 = 35 #VEM\n",
    "angulo = 40\n",
    "b = 2.1    \n",
    "#Genero el punto random\n",
    "random_point = in_hex(poligono)\n",
    "#calculo las distancias entre el evento y los 7 detectores.\n",
    "distancias = getDistances(np.asarray(pointsx),np.asarray(pointsy),random_point[0],random_point[1],simZenith(-angulo,angulo)[0],simZenith(-angulo,angulo)[1])\n",
    "r = np.asarray(distancias)\n",
    "\n",
    "\n",
    "y1 = powerlaw(r,s0,b)\n",
    "sigma = np.sqrt(y1)\n",
    "\n",
    "#Hago el ajuste y defino la semilla inicial\n",
    "y_random = np.random.normal(y1,sigma,size = len(y1))  #signal    \n",
    "params=[35, 1]\n",
    "popt, pcov = curve_fit(powerlaw, distancias, y_random, p0=params)\n",
    "print(f'curve_fit results',popt,np.sqrt(np.diag(pcov)))\n",
    "print(pcov)"
   ]
  },
  {
   "cell_type": "code",
   "execution_count": 59,
   "id": "ebf24afa",
   "metadata": {},
   "outputs": [
    {
     "name": "stdout",
     "output_type": "stream",
     "text": [
      "Minimize results\n",
      "Parametros ajustados:  [38.91169847  2.0151886 ]\n",
      "Covarianza estimada:  [[ 6.04044114 -0.14271768]\n",
      " [-0.14271768  0.00882693]]\n",
      "Errores de los parámetros [2.45773089 0.09395174]\n"
     ]
    }
   ],
   "source": [
    "res = minimize(costo2, x0=(300,2.1))\n",
    "print('Minimize results')\n",
    "print(\"Parametros ajustados: \", res.x)\n",
    "cova = res.hess_inv\n",
    "print(\"Covarianza estimada: \", 2*cova)  \n",
    "par_error = np.sqrt(np.diagonal(2*cova))\n",
    "print(\"Errores de los parámetros\", par_error)"
   ]
  }
 ],
 "metadata": {
  "kernelspec": {
   "display_name": "Python 3",
   "language": "python",
   "name": "python3"
  },
  "language_info": {
   "codemirror_mode": {
    "name": "ipython",
    "version": 3
   },
   "file_extension": ".py",
   "mimetype": "text/x-python",
   "name": "python",
   "nbconvert_exporter": "python",
   "pygments_lexer": "ipython3",
   "version": "3.8.8"
  }
 },
 "nbformat": 4,
 "nbformat_minor": 5
}
