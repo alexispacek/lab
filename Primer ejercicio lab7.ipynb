{
 "cells": [
  {
   "cell_type": "code",
   "execution_count": 1,
   "id": "76352d2f",
   "metadata": {},
   "outputs": [],
   "source": [
    "import numpy as np\n",
    "import matplotlib.pyplot as plt \n",
    "from scipy.stats import norm, linregress"
   ]
  },
  {
   "cell_type": "code",
   "execution_count": 2,
   "id": "dc8f6a71",
   "metadata": {},
   "outputs": [],
   "source": [
    "data_x = [2.00, 2.10, 2.20, 2.30, 2.40, 2.50, 2.60, 2.70, 2.80, 2.90, 3.00] \n",
    "                #supongo datos en x sin error.\n",
    "\n",
    "data_y = [2.78, 3.29, 3.29, 3.33, 3.23, 3.69, 3.46, 3.87, 3.62, 3.40, 3.99]\n",
    "sigma = 0.3"
   ]
  },
  {
   "cell_type": "code",
   "execution_count": 3,
   "id": "45e9a6ed",
   "metadata": {},
   "outputs": [],
   "source": [
    "a1 = []\n",
    "a2 = []\n",
    "j=0\n",
    "while j<=500:\n",
    "    \n",
    "    D_x = []    #Datos en x\n",
    "    for i in data_x:\n",
    "        D_x+= list(np.zeros(500)+i)\n",
    "\n",
    "    D_y = []\n",
    "    for i in data_y:\n",
    "        D_y+= list(norm.rvs(loc = i, scale=sigma, size=500))\n",
    "\n",
    "    a1.append(linregress(D_x, D_y)[0])\n",
    "    a2.append(linregress(D_x, D_y)[1])\n",
    "    j=j+1\n"
   ]
  },
  {
   "cell_type": "code",
   "execution_count": 4,
   "id": "8c476723",
   "metadata": {
    "scrolled": false
   },
   "outputs": [
    {
     "data": {
      "text/plain": [
       "[<matplotlib.lines.Line2D at 0x28535178e50>]"
      ]
     },
     "execution_count": 4,
     "metadata": {},
     "output_type": "execute_result"
    },
    {
     "data": {
      "image/png": "[encoded data removed]",
      "text/plain": [
       "<Figure size 432x288 with 1 Axes>"
      ]
     },
     "metadata": {
      "needs_background": "light"
     },
     "output_type": "display_data"
    }
   ],
   "source": [
    "#un ejemplo generico se lo que se ve\n",
    "x = np.linspace(2,3,100)\n",
    "plt.plot( D_x, D_y,'.');\n",
    "plt.plot(x,linregress(D_x, D_y)[0]*x + linregress(D_x, D_y)[1])"
   ]
  },
  {
   "cell_type": "code",
   "execution_count": 5,
   "id": "2e8b7a27",
   "metadata": {},
   "outputs": [
    {
     "data": {
      "text/plain": [
       "(0.012692531589268568, 0.7980106790991646)"
      ]
     },
     "execution_count": 5,
     "metadata": {},
     "output_type": "execute_result"
    },
    {
     "data": {
      "image/png": "[encoded data removed]",
      "text/plain": [
       "<Figure size 432x288 with 1 Axes>"
      ]
     },
     "metadata": {
      "needs_background": "light"
     },
     "output_type": "display_data"
    }
   ],
   "source": [
    "plt.hist(a1);\n",
    "np.std(a1), np.mean(a1)"
   ]
  },
  {
   "cell_type": "code",
   "execution_count": 7,
   "id": "bf3d6e60",
   "metadata": {},
   "outputs": [
    {
     "data": {
      "text/plain": [
       "(0.032240526698329205, 1.4548193591130605)"
      ]
     },
     "execution_count": 7,
     "metadata": {},
     "output_type": "execute_result"
    },
    {
     "data": {
      "image/png": "[encoded data removed]",
      "text/plain": [
       "<Figure size 432x288 with 1 Axes>"
      ]
     },
     "metadata": {
      "needs_background": "light"
     },
     "output_type": "display_data"
    }
   ],
   "source": [
    "plt.hist(a2);\n",
    "np.std(a2), np.mean(a2)"
   ]
  },
  {
   "cell_type": "code",
   "execution_count": 8,
   "id": "3543b768",
   "metadata": {},
   "outputs": [
    {
     "data": {
      "text/plain": [
       "LinregressResult(slope=0.7990909090909094, intercept=1.4522727272727267, rvalue=0.7919240297093963, pvalue=0.003670724510704689, stderr=0.20538190366839446, intercept_stderr=0.517546096836582)"
      ]
     },
     "execution_count": 8,
     "metadata": {},
     "output_type": "execute_result"
    }
   ],
   "source": [
    "linregress(data_x, data_y)"
   ]
  },
  {
   "cell_type": "code",
   "execution_count": 1,
   "id": "f209edc0",
   "metadata": {},
   "outputs": [
    {
     "data": {
      "text/plain": [
       "4"
      ]
     },
     "execution_count": 1,
     "metadata": {},
     "output_type": "execute_result"
    }
   ],
   "source": [
    "2+2"
   ]
  },
  {
   "cell_type": "code",
   "execution_count": 9,
   "id": "f48a6d90",
   "metadata": {},
   "outputs": [
    {
     "data": {
      "text/plain": [
       "6"
      ]
     },
     "execution_count": 9,
     "metadata": {},
     "output_type": "execute_result"
    }
   ],
   "source": [
    "2*3"
   ]
  }
 ],
 "metadata": {
  "kernelspec": {
   "display_name": "Python 3",
   "language": "python",
   "name": "python3"
  },
  "language_info": {
   "codemirror_mode": {
    "name": "ipython",
    "version": 3
   },
   "file_extension": ".py",
   "mimetype": "text/x-python",
   "name": "python",
   "nbconvert_exporter": "python",
   "pygments_lexer": "ipython3",
   "version": "3.8.8"
  }
 },
 "nbformat": 4,
 "nbformat_minor": 5
}
