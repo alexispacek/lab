{
 "cells": [
  {
   "cell_type": "markdown",
   "id": "01bd34f3",
   "metadata": {},
   "source": [
    "$r_{0}$ = 300 ;\n",
    "$\\beta$ = 2.1 ; \n",
    "$S_{0}$ = 35 ; Dejamos variar los datos simulados como la raiz de 35."
   ]
  }
 ],
 "metadata": {
  "kernelspec": {
   "display_name": "Python 3",
   "language": "python",
   "name": "python3"
  },
  "language_info": {
   "codemirror_mode": {
    "name": "ipython",
    "version": 3
   },
   "file_extension": ".py",
   "mimetype": "text/x-python",
   "name": "python",
   "nbconvert_exporter": "python",
   "pygments_lexer": "ipython3",
   "version": "3.8.8"
  }
 },
 "nbformat": 4,
 "nbformat_minor": 5
}
