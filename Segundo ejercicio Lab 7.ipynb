{
 "cells": [
  {
   "cell_type": "code",
   "execution_count": 1,
   "id": "fbbf13cd",
   "metadata": {},
   "outputs": [],
   "source": [
    "from scipy.optimize import leastsq\n",
    "import numpy as np\n",
    "import matplotlib.pyplot as plt \n",
    "import matplotlib.path as mpltPath\n"
   ]
  },
  {
   "cell_type": "markdown",
   "id": "fef6e5c3",
   "metadata": {},
   "source": [
    "Defino funciones y parametros que voy a usar luego. Dist me calcula la distancia euclediana entre dos puntos. Func es el modelo lineal que paso como parametro al LeastSq. "
   ]
  },
  {
   "cell_type": "code",
   "execution_count": 2,
   "id": "66061aa0",
   "metadata": {},
   "outputs": [],
   "source": [
    "def dist(p1,p2):\n",
    "    cant1 = np.abs(p1[0] - p2[0])\n",
    "    cant2 = np.abs(p1[1] - p2[1])\n",
    "    dist = np.sqrt((cant1**2) + (cant2**2))\n",
    "    return dist\n",
    "\n",
    "def func(params, x, y):\n",
    "    a, b = params[0], params[1]\n",
    "    residual = y-(a*x+b)\n",
    "    return residual\n",
    "\n",
    "def exp(params, x, y):\n",
    "    a, b = params[0], params[1]\n",
    "    residual = y-(a*x**b)\n",
    "    return residual\n",
    "\n",
    "def in_hex(poli):\n",
    "    path = mpltPath.Path(poli)\n",
    "    hex = False\n",
    "    random_point = (np.random.uniform(-433,433),np.random.uniform(-375,375))\n",
    "    while hex != True:\n",
    "        if path.contains_points([random_point]) == True:\n",
    "            hex = True\n",
    "        else:\n",
    "            random_point = (np.random.uniform(-433,433),np.random.uniform(-375,375))\n",
    "    return random_point\n",
    "    \n",
    "    \n",
    "params = [1, 1]"
   ]
  },
  {
   "cell_type": "markdown",
   "id": "8ecf5520",
   "metadata": {},
   "source": [
    "Defino los puntos del hexagono. Me genero un punto al azar que vive dentro del hexagono. Grafico"
   ]
  },
  {
   "cell_type": "code",
   "execution_count": 3,
   "id": "26891ed9",
   "metadata": {
    "scrolled": false
   },
   "outputs": [
    {
     "data": {
      "image/png": "[encoded data removed]",
      "text/plain": [
       "<Figure size 576x576 with 1 Axes>"
      ]
     },
     "metadata": {
      "needs_background": "light"
     },
     "output_type": "display_data"
    }
   ],
   "source": [
    "poligono = [[-216.5,-375],[216.5,-375],[433,0],[216.5,375],[-216.5,375],[-433,0]]\n",
    "rectangulo = [[-433,-375],[433,-433],[433,375],[-433,375]]\n",
    "pointsx,pointsy = [-216.5,216.5,433,216.5,-216.5,-433.5] , [-375,-375,0,375,375,0]\n",
    "random_point = in_hex(poligono)\n",
    "centro = (0,0)\n",
    "\n",
    "\n",
    "distancias = []\n",
    "for i in range(len(poligono)):\n",
    "    distancias.append(dist(random_point,poligono[i]))\n",
    "    \n",
    "distancias.append(dist(centro,random_point))\n",
    "    \n",
    "\n",
    "plt.figure(figsize=(8,8))\n",
    "polygon = plt.Polygon(poligono,fill=None,edgecolor='r')\n",
    "rectangle = plt.Rectangle(rectangulo[0],width = 865, height = 750,fill=None,linestyle = '--',edgecolor='b')\n",
    "plt.gca().add_patch(polygon)\n",
    "plt.gca().add_patch(rectangle)\n",
    "plt.xlim(-600,600)\n",
    "plt.ylim(-600,600)\n",
    "plt.scatter(centro[0],centro[1],s = 100,c ='black')\n",
    "plt.scatter(random_point[0],random_point[1],s = 50,c='violet')\n",
    "plt.scatter(pointsx,pointsy,s = 100,c = 'black')\n",
    "plt.grid(linestyle='--')\n",
    "plt.show()\n",
    "\n",
    "\n"
   ]
  },
  {
   "cell_type": "code",
   "execution_count": 4,
   "id": "92f1dc2e",
   "metadata": {},
   "outputs": [
    {
     "data": {
      "text/plain": [
       "[578.6965956861468,\n",
       " 560.5642719337702,\n",
       " 436.2672124443829,\n",
       " 295.126761289864,\n",
       " 328.2639975987956,\n",
       " 481.2940623300766,\n",
       " 153.28903269343826]"
      ]
     },
     "execution_count": 4,
     "metadata": {},
     "output_type": "execute_result"
    }
   ],
   "source": [
    "distancias"
   ]
  },
  {
   "cell_type": "markdown",
   "id": "1586c097",
   "metadata": {},
   "source": [
    "Chequeo las distancias entre los verrtices para que sean todas aproximadamente 433. Chequeo que el centro este bien colocado tal que su distancia al resto de los vertices sea tambien 433."
   ]
  },
  {
   "cell_type": "code",
   "execution_count": 5,
   "id": "e3658eb9",
   "metadata": {},
   "outputs": [
    {
     "name": "stdout",
     "output_type": "stream",
     "text": [
      "distancia entre vertices: 433.0\n",
      "distancia entre vertices: 433.00952645409546\n",
      "distancia entre vertices: 433.00952645409546\n",
      "distancia entre vertices: 433.0\n",
      "distancia entre vertices: 433.00952645409546\n",
      "disttancia entre vertices: 433.00952645409546\n",
      "distancias entre vertices y el centro: 433.00952645409546\n",
      "distancias entre vertices y el centro: 433.00952645409546\n",
      "distancias entre vertices y el centro: 433.0\n",
      "distancias entre vertices y el centro: 433.00952645409546\n",
      "distancias entre vertices y el centro: 433.00952645409546\n",
      "distancias entre vertices y el centro: 433.0\n"
     ]
    }
   ],
   "source": [
    "for i in range(len(poligono)):\n",
    "    if i == len(poligono)-1:\n",
    "        print(f'disttancia entre vertices: {dist(poligono[0],poligono[len(poligono)-1])}')\n",
    "    if i < len(poligono)-1:\n",
    "        print(f'distancia entre vertices: {dist(poligono[i],poligono[i+1])}')\n",
    "        \n",
    "for i in range(len(poligono)):\n",
    "    print(f'distancias entre vertices y el centro: {dist(centro,poligono[i])}')"
   ]
  },
  {
   "cell_type": "markdown",
   "id": "f8cd8dec",
   "metadata": {},
   "source": [
    "Genero los puntos y a partir de la relacion lineal."
   ]
  },
  {
   "cell_type": "code",
   "execution_count": 6,
   "id": "b2b99e23",
   "metadata": {},
   "outputs": [],
   "source": [
    "sigma = 5\n",
    "ruido = np.random.normal(0, 5, 7)\n",
    "y = 100 - (100/433)*np.asarray(distancias) + ruido "
   ]
  },
  {
   "cell_type": "markdown",
   "id": "56d94c86",
   "metadata": {},
   "source": [
    "Genero 1000 puntos de y al azar y obtengo los parametros de la recta que mejor los ajustan."
   ]
  },
  {
   "cell_type": "code",
   "execution_count": 7,
   "id": "928b05a5",
   "metadata": {},
   "outputs": [
    {
     "name": "stdout",
     "output_type": "stream",
     "text": [
      "Parametros obtenidos por Monte carlo = (98.60820055152513, -0.23326737930658065)\n",
      "Parametros originales = (100, -0.23094688221709006)\n"
     ]
    }
   ],
   "source": [
    "a1 = []\n",
    "a2 = []\n",
    "\n",
    "for i in range(1000):\n",
    "    valores_y = (np.random.normal(loc = y, scale = sigma))\n",
    "    a1.append(leastsq(func, params, (np.asarray(distancias), valores_y))[0][1])\n",
    "    a2.append(leastsq(func, params, (np.asarray(distancias), valores_y))[0][0])\n",
    "    \n",
    "print(f'Parametros obtenidos por Monte carlo = {np.mean(a1),np.mean(a2)}')\n",
    "print(f'Parametros originales = {(100,-100/433)}')                                                                                      \n"
   ]
  },
  {
   "cell_type": "markdown",
   "id": "c5a470f1",
   "metadata": {},
   "source": [
    "Grafico los histogramas de la pendiente y la ordenada"
   ]
  },
  {
   "cell_type": "code",
   "execution_count": 8,
   "id": "a215d72b",
   "metadata": {},
   "outputs": [
    {
     "data": {
      "text/plain": [
       "Text(0.5, 0, '$a_{2}$')"
      ]
     },
     "execution_count": 8,
     "metadata": {},
     "output_type": "execute_result"
    },
    {
     "data": {
      "image/png": "[encoded data removed]",
      "text/plain": [
       "<Figure size 504x504 with 1 Axes>"
      ]
     },
     "metadata": {
      "needs_background": "light"
     },
     "output_type": "display_data"
    },
    {
     "data": {
      "image/png": "[encoded data removed]",
      "text/plain": [
       "<Figure size 504x504 with 1 Axes>"
      ]
     },
     "metadata": {
      "needs_background": "light"
     },
     "output_type": "display_data"
    }
   ],
   "source": [
    "plt.figure(figsize=(7,7))\n",
    "plt.hist(a1,density=True)\n",
    "plt.title('a1 Ordenada',size = 20)\n",
    "plt.grid()\n",
    "plt.ylabel('Prob($a_{1}$)',size = 16)\n",
    "plt.xlabel('$a_{1}$',size = 16)\n",
    "\n",
    "\n",
    "\n",
    "plt.figure(figsize=(7,7))\n",
    "plt.hist(a2,density=True)\n",
    "plt.title('a2 Pendiente',size = 20)\n",
    "plt.grid()\n",
    "plt.ylabel('Prob($a_{2}$)',size = 16)\n",
    "plt.xlabel('$a_{2}$',size = 16)"
   ]
  },
  {
   "cell_type": "code",
   "execution_count": 22,
   "id": "4e9633a5",
   "metadata": {},
   "outputs": [
    {
     "name": "stdout",
     "output_type": "stream",
     "text": [
      "(array([ -0.23887725, 103.10850629]), 3)\n"
     ]
    },
    {
     "data": {
      "image/png": "[encoded data removed]",
      "text/plain": [
       "<Figure size 432x288 with 1 Axes>"
      ]
     },
     "metadata": {
      "needs_background": "light"
     },
     "output_type": "display_data"
    }
   ],
   "source": [
    "\n",
    "\n",
    "sigma = 5\n",
    "ruido = np.random.normal(0, 5, 7)\n",
    "y = 100 - (100/433)*np.asarray(distancias) \n",
    "signal = np.random.normal(y,sigma,7)\n",
    "plt.plot(distancias,signal, '.')\n",
    "plt.errorbar(distancias, signal, yerr=sigma, fmt=\".\", color=\"r\")\n",
    "\n",
    "a,b = leastsq(func, [1,1], (np.array(distancias), signal))[0]\n",
    "cov = leastsq(func, [1,1], (np.array(distancias), signal))\n",
    "z = np.linspace(min(distancias),max(distancias),1000)              \n",
    "plt.plot(z, b+a*z)\n",
    "print(leastsq(func, [1,1], (np.array(distancias), signal)))"
   ]
  },
  {
   "cell_type": "code",
   "execution_count": 25,
   "id": "bd898ea0",
   "metadata": {},
   "outputs": [
    {
     "data": {
      "text/plain": [
       "array([[ 1.45003917e+01, -3.00368032e-02],\n",
       "       [-3.00368032e-02,  8.25521630e-05]])"
      ]
     },
     "execution_count": 25,
     "metadata": {},
     "output_type": "execute_result"
    }
   ],
   "source": [
    "x = np.array(distancias)\n",
    "x2 = signal\n",
    "Sum_x = np.sum(x)\n",
    "Sum_x2 = np.sum(x**2)\n",
    "N = len(x)\n",
    "Delta = (N * Sum_x2) - (Sum_x ** 2)\n",
    "\n",
    "cov = np.empty(shape=[2, 2])\n",
    "cov[0,0] = (sigma**2/Delta)*Sum_x2\n",
    "cov[1,1] = (sigma**2/Delta)*N\n",
    "cov[1,0] = -(sigma**2/Delta)*Sum_x\n",
    "cov[0,1] = -(sigma**2/Delta)*Sum_x\n",
    "\n",
    "cov"
   ]
  },
  {
   "cell_type": "code",
   "execution_count": 26,
   "id": "c5ccb4a1",
   "metadata": {},
   "outputs": [],
   "source": [
    "var_y = cov[0,0] + z**2*cov[1,1] +2*z*cov[0,1] \n",
    "sigma_y = np.sqrt(var_y)\n"
   ]
  },
  {
   "cell_type": "code",
   "execution_count": 28,
   "id": "5a808240",
   "metadata": {
    "scrolled": true
   },
   "outputs": [
    {
     "data": {
      "text/plain": [
       "<matplotlib.collections.LineCollection at 0x1be708f8f70>"
      ]
     },
     "execution_count": 28,
     "metadata": {},
     "output_type": "execute_result"
    },
    {
     "data": {
      "image/png": "[encoded data removed]",
      "text/plain": [
       "<Figure size 432x288 with 1 Axes>"
      ]
     },
     "metadata": {
      "needs_background": "light"
     },
     "output_type": "display_data"
    }
   ],
   "source": [
    "plt.plot(distancias,signal, '.')\n",
    "plt.errorbar(distancias, signal, yerr=sigma, fmt=\".\", color=\"r\")\n",
    "plt.plot(z,b+a*z)\n",
    "plt.errorbar(z,b+a*z, yerr=np.sqrt(var_y),alpha=0.1, \n",
    "             fmt='',label='Banda de error' )\n",
    "\n",
    "xmin = - cov[0][1]/cov[1][1]\n",
    "plt.vlines(xmin, min(signal), max(signal), alpha=0.5, linestyles='dashed',color='black')"
   ]
  },
  {
   "cell_type": "code",
   "execution_count": 13,
   "id": "a48e8227",
   "metadata": {},
   "outputs": [],
   "source": [
    "aux = []\n",
    "for j in range(30000):\n",
    "    distancias = []\n",
    "    random_point = in_hex(poligono)\n",
    "    for i in range(len(poligono)):\n",
    "        \n",
    "        distancias.append(dist(random_point,poligono[i]))\n",
    "    \n",
    "    distancias.append(dist(centro,random_point))\n",
    "    aux.append(np.mean(distancias))"
   ]
  },
  {
   "cell_type": "code",
   "execution_count": 14,
   "id": "ae8c5c7a",
   "metadata": {},
   "outputs": [
    {
     "data": {
      "text/plain": [
       "Text(0, 0.5, 'Probabilidad')"
      ]
     },
     "execution_count": 14,
     "metadata": {},
     "output_type": "execute_result"
    },
    {
     "data": {
      "image/png": "[encoded data removed]",
      "text/plain": [
       "<Figure size 432x288 with 1 Axes>"
      ]
     },
     "metadata": {
      "needs_background": "light"
     },
     "output_type": "display_data"
    }
   ],
   "source": [
    "import seaborn as sns\n",
    "\n",
    "sns.histplot(data=aux, stat='probability');\n",
    "plt.xlabel('Metros')\n",
    "plt.ylabel(\"Probabilidad\")"
   ]
  },
  {
   "cell_type": "code",
   "execution_count": 15,
   "id": "6de47c4d",
   "metadata": {},
   "outputs": [],
   "source": [
    "distancias = []\n",
    "for i in range(len(poligono)):\n",
    "    random_point = in_hex(poligono)\n",
    "    distancias.append(dist(random_point,poligono[i]))\n",
    "    \n",
    "distancias.append(dist(centro,random_point))\n"
   ]
  },
  {
   "cell_type": "code",
   "execution_count": 16,
   "id": "b278b0f6",
   "metadata": {
    "scrolled": true
   },
   "outputs": [
    {
     "data": {
      "text/plain": [
       "363.852406735134"
      ]
     },
     "execution_count": 16,
     "metadata": {},
     "output_type": "execute_result"
    }
   ],
   "source": [
    "np.mean(distancias)"
   ]
  },
  {
   "cell_type": "code",
   "execution_count": 125,
   "id": "6af46945",
   "metadata": {},
   "outputs": [
    {
     "data": {
      "text/plain": [
       "<ErrorbarContainer object of 3 artists>"
      ]
     },
     "execution_count": 125,
     "metadata": {},
     "output_type": "execute_result"
    },
    {
     "data": {
      "image/png": "[encoded data removed]",
      "text/plain": [
       "<Figure size 432x288 with 1 Axes>"
      ]
     },
     "metadata": {
      "needs_background": "light"
     },
     "output_type": "display_data"
    }
   ],
   "source": [
    "\"\"\"\n",
    "Aplico power law\n",
    "\n",
    "\"\"\"\n",
    "\n",
    "from scipy.optimize import curve_fit\n",
    "\n",
    "def powerlaw(r, s0, b):  # r0 no es variable aleatoria\n",
    "    r0 = 300\n",
    "    return s0*(r/r0)**(-b)\n",
    "\n",
    "\n",
    "r0 = 300 #metros \n",
    "s0 = 35 #VEM\n",
    "b = 2.1\n",
    "r = np.asarray(distancias)\n",
    "sigma = np.sqrt(s0)\n",
    "\n",
    "\n",
    "\n",
    "y = powerlaw(r,s0,b)\n",
    "\n",
    "signal = np.random.normal(y,sigma,7)\n",
    "\n",
    "\n",
    "plt.plot(distancias,signal, '.')\n",
    "plt.errorbar(distancias, signal, yerr=sigma, fmt=\".\", color=\"r\")"
   ]
  },
  {
   "cell_type": "code",
   "execution_count": 126,
   "id": "6cc5e944",
   "metadata": {},
   "outputs": [],
   "source": [
    "parametros_iniciales=[35, 2.1]\n",
    "\n",
    "\n",
    "popt, pcov = curve_fit(powerlaw, distancias, signal, p0=parametros_iniciales)\n"
   ]
  },
  {
   "cell_type": "code",
   "execution_count": 127,
   "id": "246b6ff2",
   "metadata": {},
   "outputs": [
    {
     "data": {
      "text/plain": [
       "array([[ 2.12148325e+01, -5.62985068e-01],\n",
       "       [-5.62985068e-01,  1.57627196e-02]])"
      ]
     },
     "execution_count": 127,
     "metadata": {},
     "output_type": "execute_result"
    }
   ],
   "source": [
    "pcov"
   ]
  },
  {
   "cell_type": "code",
   "execution_count": 128,
   "id": "0b4104cc",
   "metadata": {},
   "outputs": [],
   "source": [
    "s0_est = popt[0]\n",
    "b_est = popt[1]"
   ]
  },
  {
   "cell_type": "code",
   "execution_count": 129,
   "id": "71dbf079",
   "metadata": {
    "scrolled": true
   },
   "outputs": [
    {
     "data": {
      "text/plain": [
       "[<matplotlib.lines.Line2D at 0x1be7efaf5e0>]"
      ]
     },
     "execution_count": 129,
     "metadata": {},
     "output_type": "execute_result"
    },
    {
     "data": {
      "image/png": "[encoded data removed]",
      "text/plain": [
       "<Figure size 432x288 with 1 Axes>"
      ]
     },
     "metadata": {
      "needs_background": "light"
     },
     "output_type": "display_data"
    }
   ],
   "source": [
    "plt.plot(distancias,signal, '.')\n",
    "plt.errorbar(distancias, signal, yerr=sigma, fmt=\".\", color=\"r\")\n",
    "\n",
    "\n",
    "x = np.linspace(min(r),max(r),10000)\n",
    "plt.plot(x, powerlaw(x,s0_est,b_est),'-')"
   ]
  },
  {
   "cell_type": "code",
   "execution_count": 130,
   "id": "151424b7",
   "metadata": {},
   "outputs": [],
   "source": [
    "sigma_s0 = np.sqrt(pcov[0,0])\n",
    "sigma_b = np.sqrt(pcov[1,1])\n",
    "cov_b_s0 = pcov[0,1]\n",
    "\n",
    "var_y = (x/r0)**(-2*b_est) * ( (s0_est*np.log(x/r0)*sigma_b)**2 + sigma_s0**2 - 2*s0_est * np.log(x/r0)*cov_b_s0 )\n",
    "\n",
    "#var_y = (x/r0)**(-2*b_est)*sigma_s0**2 + (s0_est*(x/r0)**(-b_est)*np.log(x/r0)*sigma_b)**2 + 2*(x/r0)**(-b_est)*(-s0_est*(x/r0)**(-b_est))*np.log(x/r0)*cov_b_s0"
   ]
  },
  {
   "cell_type": "code",
   "execution_count": 131,
   "id": "c98984d1",
   "metadata": {},
   "outputs": [
    {
     "data": {
      "text/plain": [
       "0.1255496696899909"
      ]
     },
     "execution_count": 131,
     "metadata": {},
     "output_type": "execute_result"
    }
   ],
   "source": [
    "sigma_b"
   ]
  },
  {
   "cell_type": "code",
   "execution_count": 132,
   "id": "bd02313e",
   "metadata": {
    "scrolled": true
   },
   "outputs": [
    {
     "data": {
      "text/plain": [
       "<ErrorbarContainer object of 3 artists>"
      ]
     },
     "execution_count": 132,
     "metadata": {},
     "output_type": "execute_result"
    },
    {
     "data": {
      "image/png": "[encoded data removed]",
      "text/plain": [
       "<Figure size 432x288 with 1 Axes>"
      ]
     },
     "metadata": {
      "needs_background": "light"
     },
     "output_type": "display_data"
    }
   ],
   "source": [
    "plt.plot(distancias,signal, '.')\n",
    "plt.errorbar(distancias, signal, yerr=sigma, fmt=\".\", color=\"r\")\n",
    "\n",
    "\n",
    "x = np.linspace(min(r),max(r),10000)\n",
    "plt.plot(x, powerlaw(x,s0_est,b_est),'-')\n",
    "\n",
    "plt.errorbar(x,powerlaw(x,s0_est,b_est), yerr = np.sqrt(var_y), alpha=0.1)"
   ]
  },
  {
   "cell_type": "code",
   "execution_count": 112,
   "id": "2adeb324",
   "metadata": {},
   "outputs": [
    {
     "data": {
      "text/plain": [
       "(array([9999], dtype=int64),)"
      ]
     },
     "execution_count": 112,
     "metadata": {},
     "output_type": "execute_result"
    }
   ],
   "source": [
    "np.where(var_y == min(var_y))"
   ]
  },
  {
   "cell_type": "code",
   "execution_count": 100,
   "id": "21ed4e26",
   "metadata": {},
   "outputs": [
    {
     "data": {
      "text/plain": [
       "array([46.58529655, 46.43251717, 46.28078499, ...,  0.72319536,\n",
       "        0.72299939,  0.72280348])"
      ]
     },
     "execution_count": 100,
     "metadata": {},
     "output_type": "execute_result"
    }
   ],
   "source": [
    "var_y"
   ]
  }
 ],
 "metadata": {
  "kernelspec": {
   "display_name": "Python 3",
   "language": "python",
   "name": "python3"
  },
  "language_info": {
   "codemirror_mode": {
    "name": "ipython",
    "version": 3
   },
   "file_extension": ".py",
   "mimetype": "text/x-python",
   "name": "python",
   "nbconvert_exporter": "python",
   "pygments_lexer": "ipython3",
   "version": "3.8.8"
  }
 },
 "nbformat": 4,
 "nbformat_minor": 5
}
